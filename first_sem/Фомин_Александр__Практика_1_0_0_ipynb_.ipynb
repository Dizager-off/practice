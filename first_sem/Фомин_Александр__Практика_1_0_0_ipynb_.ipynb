{
  "nbformat": 4,
  "nbformat_minor": 0,
  "metadata": {
    "colab": {
      "provenance": []
    },
    "kernelspec": {
      "name": "python3",
      "display_name": "Python 3"
    },
    "language_info": {
      "name": "python"
    }
  },
  "cells": [
    {
      "cell_type": "markdown",
      "source": [
        "ФИО: Фомин Александр Вадимович\n"
      ],
      "metadata": {
        "id": "fLDS5f_mCnPa"
      }
    },
    {
      "cell_type": "markdown",
      "source": [
        "# Задание 1"
      ],
      "metadata": {
        "id": "8XGka5GtEBK1"
      }
    },
    {
      "cell_type": "markdown",
      "source": [
        "Задание:\n",
        "\n",
        "Создайте класс с именем Rectangle который имеет:\n",
        "- Атрибуты ширины и высоты.\n",
        "- Метод расчета площади.\n",
        "- Метод расчета периметра.\n",
        "- Метод отображения размеров прямоугольника.\n",
        "\n",
        "Создайте экземпляр класса Rectangleи продемонстрируйте его функциональность."
      ],
      "metadata": {
        "id": "jQ4qqd8nEZBY"
      }
    },
    {
      "cell_type": "code",
      "source": [
        "class Rectangle:\n",
        "    def __init__(self, width, height):\n",
        "        self.width = width\n",
        "        self.height = height\n",
        "\n",
        "    def calculate_area(self):\n",
        "        return self.width * self.height\n",
        "\n",
        "    def calculate_perimeter(self):\n",
        "        return 2 * (self.width + self.height)\n",
        "\n",
        "    def display_dimensions(self):\n",
        "        return f\"Ширина: {self.width}, Высота: {self.height}\"\n",
        "\n",
        "\n",
        "if __name__ == \"__main__\":\n",
        "    rect = Rectangle(5, 10)\n",
        "\n",
        "    print(rect.display_dimensions())\n",
        "    print(f\"Площадь: {rect.calculate_area()}\")\n",
        "    print(f\"Периметр: {rect.calculate_perimeter()}\")\n"
      ],
      "metadata": {
        "id": "dG6uNPqTEAvt"
      },
      "execution_count": null,
      "outputs": []
    },
    {
      "cell_type": "markdown",
      "source": [
        "# Задание 2"
      ],
      "metadata": {
        "id": "0ct1u6lqE73j"
      }
    },
    {
      "cell_type": "markdown",
      "source": [
        "Задание: Создайте мини версию банковской системы:\n",
        "\n",
        "\n",
        "Инструкции:\n",
        "\n",
        "1. Создайте класс BankAccountсо следующими атрибутами:\n",
        "    - account_holder -  владелец счета\n",
        "    - balance - баланс счета\n",
        "\n",
        "2. Реализуйте следующие методы:\n",
        "    - Метод для инициализации владельца счета: имя владельца счета и установите начальный баланс на 0.\n",
        "    - deposit(amount): Добавьте указанную сумму к балансу.\n",
        "    - withdraw(amount): Вычесть указанную сумму из баланса, если средств достаточно; в противном случае вывести предупреждение.\n",
        "    - get_balance(): Возврат текущего баланса.\n",
        "\n",
        "\n",
        "Создайте объект класса и продемонстрируйте его возможности"
      ],
      "metadata": {
        "id": "FOpIpcLxE-WK"
      }
    },
    {
      "cell_type": "code",
      "source": [
        "class BankAccount:\n",
        "    def __init__(self, account_holder):\n",
        "        self.account_holder = account_holder\n",
        "        self.balance = 0\n",
        "\n",
        "    def deposit(self, amount):\n",
        "        if amount > 0:\n",
        "            self.balance += amount\n",
        "            print(f\"Депозит {amount}. Новый баланс: {self.balance}\")\n",
        "        else:\n",
        "            print(\"Сумма депозита должна быть положительной\")\n",
        "\n",
        "    def withdraw(self, amount):\n",
        "        if amount > self.balance:\n",
        "            print(\"Недостаточно средств\")\n",
        "        elif amount > 0:\n",
        "            self.balance -= amount\n",
        "            print(f\"Снятие {amount}. Новый баланс: {self.balance}\")\n",
        "        else:\n",
        "            print(\"Сумма вывода должна быть положительной\")\n",
        "\n",
        "    def get_balance(self):\n",
        "        return self.balance\n",
        "\n",
        "\n",
        "if __name__ == \"__main__\":\n",
        "    account = BankAccount(\"Роман Донской\")\n",
        "\n",
        "    print(f\"Имя Владельца: {account.account_holder}\")\n",
        "    print(f\"Начальный баланс: {account.get_balance()}\")\n",
        "\n",
        "    account.deposit(1000)\n",
        "    account.withdraw(500)\n",
        "    account.withdraw(700)\n",
        "    print(f\"Финальный баланс: {account.get_balance()}\")"
      ],
      "metadata": {
        "id": "WWXNIUrCE99W"
      },
      "execution_count": null,
      "outputs": []
    },
    {
      "cell_type": "markdown",
      "source": [
        "# Задание 3"
      ],
      "metadata": {
        "id": "C5DX5Uf2FfP6"
      }
    },
    {
      "cell_type": "markdown",
      "source": [
        "Возьмите код и задание (Рыцарь и дракон) из предыдущей практики и реализуйте его с применением классов"
      ],
      "metadata": {
        "id": "0cR-MYepFgz6"
      }
    },
    {
      "cell_type": "code",
      "source": [
        "import random\n",
        "import time\n",
        "\n",
        "class Character:\n",
        "    def __init__(self, name, health, damage_range):\n",
        "        self.name = name\n",
        "        self.health = health\n",
        "        self.damage_range = damage_range\n",
        "\n",
        "    def attack(self):\n",
        "        return random.randint(*self.damage_range)\n",
        "\n",
        "class Knight(Character):\n",
        "    def __init__(self, name, health, damage_range, armor_type, armor_defense):\n",
        "        Character.__init__(self, name, health, damage_range)\n",
        "        self.armor_type = armor_type\n",
        "        self.armor_defense = armor_defense\n",
        "\n",
        "    def take_damage(self, damage):\n",
        "        net_damage = max(damage - self.armor_defense, 0)\n",
        "        self.health -= net_damage\n",
        "        return net_damage\n",
        "\n",
        "class Dragon(Character):\n",
        "    pass\n",
        "\n",
        "class Game:\n",
        "    # def __init__(self):\n",
        "    #     self.knight = None\n",
        "    #     self.dragon = None\n",
        "\n",
        "    def create_knight(self):\n",
        "        name = input(\"Введите имя рыцаря: \")\n",
        "        armor_type = input(f\"Какие доспехи носит {name}?: \")\n",
        "        armor_defense = int(input(\"Введите показатель защиты рыцаря (например, 5): \"))\n",
        "        weapon_damage_min = int(input(\"Введите минимальный урон оружия рыцаря (например, 5): \"))\n",
        "        weapon_damage_max = int(input(\"Введите максимальный урон оружия рыцаря (например, 15): \"))\n",
        "        health = int(input(\"Введите здоровье рыцаря (например, 50): \"))\n",
        "        self.knight = Knight(name, health, (weapon_damage_min, weapon_damage_max), armor_type, armor_defense)\n",
        "        print(f\"\\nРыцарь {self.knight.name} с доспехами {self.knight.armor_type} готов к битве!\")\n",
        "\n",
        "    def create_dragon(self):\n",
        "        name = input(\"Введите имя дракона: \")\n",
        "        damage_min = int(input(\"Введите минимальный урон дракона (например, 8): \"))\n",
        "        damage_max = int(input(\"Введите максимальный урон дракона (например, 20): \"))\n",
        "        health = int(input(\"Введите здоровье дракона (например, 60): \"))\n",
        "        self.dragon = Dragon(name, health, (damage_min, damage_max))\n",
        "        print(f\"{self.dragon.name} появился на горизонте!\")\n",
        "\n",
        "    def battle(self):\n",
        "        print(\"\\nБитва началась!\")\n",
        "        while self.knight.health > 0 and self.dragon.health > 0:\n",
        "            knight_attack = self.knight.attack()\n",
        "            self.dragon.health -= knight_attack\n",
        "            print(f\"\\n{self.knight.name} атакует {self.dragon.name} и наносит {knight_attack} урона.\")\n",
        "            print(f\"Здоровье дракона: {self.dragon.health}\")\n",
        "\n",
        "            if self.dragon.health <= 0:\n",
        "                print(f\"\\nПоздравляем! {self.knight.name} победил дракона!\")\n",
        "                break\n",
        "\n",
        "            dragon_attack = self.dragon.attack()\n",
        "            damage_taken = self.knight.take_damage(dragon_attack)\n",
        "            print(f\"{self.dragon.name} атакует {self.knight.name} и наносит {damage_taken} урона (после защиты).\")\n",
        "            print(f\"Здоровье рыцаря: {self.knight.health}\")\n",
        "\n",
        "            if self.knight.health <= 0:\n",
        "                print(f\"\\n{self.knight.name} пал в битве. Дракон победил!\")\n",
        "                break\n",
        "\n",
        "            time.sleep(1)\n",
        "\n",
        "    def start(self):\n",
        "        print(\"Добро пожаловать в игру 'Рыцарь и Дракон'!\")\n",
        "        self.create_knight()\n",
        "        self.create_dragon()\n",
        "        print(f\"\\n{self.knight.name} встречает {self.dragon.name}! Бой не избежать.\")\n",
        "        time.sleep(2)\n",
        "        self.battle()\n",
        "        print(\"Игра окончена.\")\n",
        "\n",
        "if __name__ == \"__main__\":\n",
        "    game = Game()\n",
        "    game.start()\n"
      ],
      "metadata": {
        "id": "Oz9BZbhAFwua"
      },
      "execution_count": null,
      "outputs": []
    },
    {
      "cell_type": "markdown",
      "source": [
        "# Дополнительное задание\n"
      ],
      "metadata": {
        "id": "b_mJHXcQGI9t"
      }
    },
    {
      "cell_type": "markdown",
      "source": [
        "Задача: Система управления библиотекой\n",
        "\n",
        "**Цель**\n",
        "Создайте простую систему управления библиотекой, которая позволит пользователям добавлять книги, брать книги, возвращать книги и просматривать список доступных книг.\n",
        "\n",
        "**Требования**\n",
        "\n",
        "1. **Определение класса**:\n",
        "   – Создайте класс с именем «Book» со следующими атрибутами:\n",
        "     - `title`\n",
        "     - `автор`\n",
        "     - `isbn`\n",
        "     - `is_borrowed` (по умолчанию `False`)\n",
        "\n",
        "2. **Класс библиотеки**:\n",
        "   - Создайте класс с именем Library, который управляет коллекцией книг.\n",
        "   - Класс должен иметь следующие методы:\n",
        "     - `__init__(self)`: инициализирует пустой список книг.\n",
        "     - `add_book(self, book: Book)`: добавляет новую книгу в библиотеку.\n",
        "     - `borrow_book(self, isbn: str)`: помечает книгу как заимствованную. Если книга не найдена или уже взята, выведите соответствующее сообщение.\n",
        "     - `return_book(self, isbn: str)`: помечает книгу как возвращенную. Если книга не найдена или не была взята взаймы, выведите соответствующее сообщение.\n",
        "     - `list_available_books(self)`: печатает список всех доступных книг в библиотеке.\n",
        "     - `find_book(self, isbn: str)`: возвращает объект книги, если он найден, в противном случае возвращает `None`.\n",
        "\n",
        "3. **Взаимодействие с пользователем**:\n",
        "   - Создайте простое текстовое меню, которое позволит пользователям:\n",
        "     - Добавить книгу\n",
        "     - Одолжить книгу\n",
        "     - Вернуть книгу\n",
        "     - Список доступных книг\n",
        "     - Выйти из программы"
      ],
      "metadata": {
        "id": "pnIUdFPcGOVL"
      }
    },
    {
      "cell_type": "code",
      "source": [],
      "metadata": {
        "id": "GKKmdfN8GL6f"
      },
      "execution_count": null,
      "outputs": []
    }
  ]
}