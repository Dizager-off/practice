{
  "nbformat": 4,
  "nbformat_minor": 0,
  "metadata": {
    "colab": {
      "provenance": []
    },
    "kernelspec": {
      "name": "python3",
      "display_name": "Python 3"
    },
    "language_info": {
      "name": "python"
    }
  },
  "cells": [
    {
      "cell_type": "markdown",
      "source": [
        "Введите ваше ФИО:"
      ],
      "metadata": {
        "id": "k8oVfdwrMXyc"
      }
    },
    {
      "cell_type": "code",
      "execution_count": null,
      "metadata": {
        "id": "5mcBLsKMI1-5"
      },
      "outputs": [],
      "source": [
        "Фомин Александр Вадимович"
      ]
    },
    {
      "cell_type": "markdown",
      "source": [
        "***Дисклеймер***\n",
        "\n",
        "В данной практике запрещено использования функций:\n",
        "\n",
        "\n",
        "*   sum()\n",
        "*   min()\n",
        "*   max()\n",
        "*   average()\n",
        "*   reversed()\n",
        "*   sorted()\n",
        "*   готовые функции или библиотеки\n"
      ],
      "metadata": {
        "id": "8HbYUbm3Jw3o"
      }
    },
    {
      "cell_type": "markdown",
      "source": [
        "\n",
        "**Задача 1:**\n",
        "\n",
        "\n",
        "\n",
        "Интернет-магазин предлагает следующие условия скидок:\n",
        "\n",
        "*   Для заказов больше 1000 единиц, клиент получает скидку 5%. Если клиент использует промокод SUPERDISCOUNT, он получает скидку 10% (вместо 5%).\n",
        "*  Для заказов более 5000 единиц, клиент получает скидку 15%, а использование промокода SUPERDISCOUNT увеличивает скидку до 20% (вместо 15%).\n",
        "\n",
        "Этап 1:\n",
        "Ввод:\n",
        "```\n",
        "Введите стоимость единицы товара: 5\n",
        "Введите количество товара: 1001\n",
        "Введите промокод: GiVEMEDISCONT\n",
        "```\n",
        "\n",
        "Вывод:\n",
        "\n",
        "```\n",
        "Ваша скидка: 5%\n",
        "Итоговая сумма: 4754.75\n",
        "```\n",
        "Этап 2:\n",
        "\n",
        "Оформите ваш код в виде функции"
      ],
      "metadata": {
        "id": "HmX0c6YPJSQr"
      }
    },
    {
      "cell_type": "code",
      "source": [
        "def shop():\n",
        "\n",
        "    unit_price = float(input(\"Введите стоимость единицы товара: \"))\n",
        "    qu = int(input(\"Введите количество товара: \"))\n",
        "    code = input(\"Введите промокод: \")\n",
        "\n",
        "    price = unit_price * qu\n",
        "\n",
        "    discount = 0\n",
        "\n",
        "    if qu > 5000:\n",
        "        discount = 15\n",
        "        if code == \"SUPERDISCOUNT\":\n",
        "            discount = 20\n",
        "    elif qu > 1000:\n",
        "        discount = 5\n",
        "        if code == \"SUPERDISCOUNT\":\n",
        "            discount = 10\n",
        "\n",
        "    discount_amount = price * (discount / 100)\n",
        "    final_price = price - discount_amount\n",
        "\n",
        "\n",
        "    print(f\"Ваша скидка: {discount}%\")\n",
        "    print(f\"Итоговая сумма: {final_price:.3f}\")\n",
        "\n",
        "\n",
        "shop()\n"
      ],
      "metadata": {
        "id": "OAIMIpklMN5D"
      },
      "execution_count": null,
      "outputs": []
    },
    {
      "cell_type": "markdown",
      "source": [
        "**Задача 2:**\n",
        "\n",
        "Этап 1:\n",
        "Напишите программу способную отфильтровать список и вывести только положительные элементы\n",
        "\n",
        "\n",
        "Ввод:\n",
        "```\n",
        "-1 5 1 2 -3\n",
        "```\n",
        "\n",
        "Вывод:\n",
        "\n",
        "```\n",
        "5 1 2\n",
        "```\n",
        "\n",
        "Этап 2:\n",
        "\n",
        "Оформите ваш код в виде функции"
      ],
      "metadata": {
        "id": "eeRVWpuLNGJ0"
      }
    },
    {
      "cell_type": "code",
      "source": [
        "def filt_num(data):\n",
        "\n",
        "    numbers = [int(a) for a in data.split()]\n",
        "    pos_num = []\n",
        "    for i in numbers:\n",
        "        if i > 0:\n",
        "            pos_num.append(i)\n",
        "\n",
        "    return ' '.join(map(str,pos_num))\n",
        "\n",
        "\n",
        "data = input('Введите числа через пробел: ')\n",
        "print (filt_num(data))"
      ],
      "metadata": {
        "id": "Xbi6bL0WOE9N"
      },
      "execution_count": null,
      "outputs": []
    },
    {
      "cell_type": "markdown",
      "source": [
        "**Задача 3:**\n",
        "\n",
        "Этап 1:\n",
        "Напишите программу реализующую Алгоритм Евклида\n",
        "\n",
        "\n",
        "> Алгоритм Евклида – это алгоритм нахождения наибольшего общего делителя (НОД) пары целых чисел.\n",
        "\n",
        "Чуть подробнее, если вы забыли: [link](https://skysmart.ru/articles/mathematic/naibolshij-obshchij-delitel)\n",
        "\n",
        "\n",
        "Ввод:\n",
        "```\n",
        "30 18\n",
        "```\n",
        "\n",
        "Вывод:\n",
        "\n",
        "```\n",
        "6\n",
        "```\n",
        "\n",
        "Этап 2:\n",
        "Оформите ваш код в виде функции\n"
      ],
      "metadata": {
        "id": "lV-w6G-POa6F"
      }
    },
    {
      "cell_type": "code",
      "source": [
        "def NOD(x,y):\n",
        "    while x != y:\n",
        "        if x > y:\n",
        "            x = x-y\n",
        "        else:\n",
        "            y = y-x\n",
        "    return x\n",
        "\n",
        "\n",
        "a = int(input())\n",
        "b = int(input())\n",
        "print(NOD(a,b))"
      ],
      "metadata": {
        "id": "X2n6fnd91yt7"
      },
      "execution_count": null,
      "outputs": []
    },
    {
      "cell_type": "markdown",
      "source": [
        "**Задача 4:**\n",
        "\n",
        "Этап 1:\n",
        "Напишите функцию программу, которая принимает строку и возвращает список слов и количество их упомнинаний в предложении\n",
        "\n",
        "Этап 2:\n",
        "Оформите ваш код в виде функции\n",
        "\n",
        "Ввод:\n",
        "```\n",
        "apple banana apple\n",
        "```\n",
        "\n",
        "Вывод:\n",
        "\n",
        "```\n",
        "apple: 2,\n",
        "banana: 1\n",
        "```"
      ],
      "metadata": {
        "id": "WIfPFxpsO0zL"
      }
    },
    {
      "cell_type": "code",
      "source": [
        "def count_word(data):\n",
        "    words = data.split()\n",
        "\n",
        "    unique_words = []\n",
        "    count = []\n",
        "\n",
        "    for i in words:\n",
        "        if i in unique_words:\n",
        "            a = unique_words.index(i)\n",
        "            count[a] += 1\n",
        "        else:\n",
        "            unique_words.append(i)\n",
        "            count.append(1)\n",
        "\n",
        "    output = []\n",
        "    for i in range(len(unique_words)):\n",
        "        output.append(f\"{unique_words[i]}: {count[i]}\")\n",
        "    return \", \".join(output)\n",
        "\n",
        "\n",
        "data = input('')\n",
        "print(count_word(data))"
      ],
      "metadata": {
        "id": "DgsmFeW5Po_x"
      },
      "execution_count": null,
      "outputs": []
    },
    {
      "cell_type": "markdown",
      "source": [
        "**Задача 5:**\n",
        "\n",
        "Этап 1:\n",
        "Детектор анаграмм Напишите программу на Python, которая принимает в качестве входных данных две строки и проверяет, являются ли они анаграммами друг друга\n",
        "\n",
        "Этап 2:\n",
        "Оформите ваш код в виде функции\n",
        "\n",
        "Ввод:\n",
        "```\n",
        "listen, silent\n",
        "```\n",
        "\n",
        "Вывод:\n",
        "\n",
        "```\n",
        "True\n",
        "```"
      ],
      "metadata": {
        "id": "5BmIJLUZP9I-"
      }
    },
    {
      "cell_type": "code",
      "source": [
        "def anagram(x, y):\n",
        "\n",
        "    a = list(x)\n",
        "    b = list(y)\n",
        "\n",
        "    for i in range(len(a)):\n",
        "        for j in range(i + 1, len(b)):\n",
        "            if a[i] > a[j]:\n",
        "                a[i], a[j] = a[j], a[i]\n",
        "\n",
        "    for i in range(len(b)):\n",
        "        for j in range(i + 1, len(b)):\n",
        "            if b[i] > b[j]:\n",
        "                b[i], b[j] = b[j], b[i]\n",
        "\n",
        "    if a == b:\n",
        "        return True\n",
        "    else:\n",
        "        return False\n",
        "\n",
        "\n",
        "a = input('Введите первое слово:')\n",
        "b = input('Введите второе слово:')\n",
        "print(anagram(a, b))"
      ],
      "metadata": {
        "id": "7LNW8DuHQJwH"
      },
      "execution_count": null,
      "outputs": []
    },
    {
      "cell_type": "markdown",
      "source": [
        "**Задача 6:**\n",
        "\n",
        "Шифр ​​Цезаря\n",
        "\n",
        "Напишите программу на Python, которая реализует шифр Цезаря, простой метод шифрования, который заменяет каждую букву буквой на фиксированное количество позиций вниз по алфавиту. Программа должна запрашивать у пользователя сообщение и значение сдвига, а затем шифровать и расшифровывать сообщение.\n",
        "Подробнее о шифре Цезаря: [link](https://habr.com/ru/articles/534058/)\n",
        "\n",
        "Этап 1:\n",
        "\n",
        "Напишите код для реализации данной задачи\n",
        "\n",
        "Этап 2:\n",
        "\n",
        "Оформите код в виде нескольких функций:\n",
        "\n",
        "* Зашифровывает сообщение\n",
        "* Расшифровывает сообщение"
      ],
      "metadata": {
        "id": "-SIWYSq2QKBh"
      }
    },
    {
      "cell_type": "code",
      "source": [
        "def code(message, shift):\n",
        "    alphabet = ['а', 'б', 'в', 'г', 'д', 'е', 'ж', 'з', 'и', 'й', 'к', 'л', 'м', 'н', 'о',\n",
        "                'п', 'р', 'с', 'т', 'у', 'ф', 'х', 'ц', 'ч', 'ш', 'щ', 'ъ', 'ы', 'ь', 'э',\n",
        "                'ю', 'я']\n",
        "    code_message = \"\"\n",
        "    al_length = len(alphabet)\n",
        "\n",
        "    for i in message:\n",
        "        if i in alphabet:\n",
        "            orig_index = alphabet.index(i)\n",
        "            code_index = (orig_index + shift) % al_length\n",
        "            code_message += alphabet[code_index]\n",
        "        else:\n",
        "            code_message += i\n",
        "    return code_message\n",
        "\n",
        "def decode(message, shift):\n",
        "    alphabet = ['а', 'б', 'в', 'г', 'д', 'е', 'ж', 'з', 'и', 'й', 'к', 'л', 'м', 'н', 'о',\n",
        "                'п', 'р', 'с', 'т', 'у', 'ф', 'х', 'ц', 'ч', 'ш', 'щ', 'ъ', 'ы', 'ь', 'э',\n",
        "                'ю', 'я']\n",
        "    decode_message = \"\"\n",
        "    al_length = len(alphabet)\n",
        "\n",
        "    for i in message:\n",
        "        if i in alphabet:\n",
        "            orig_index = alphabet.index(i)\n",
        "            new_index = (orig_index - shift) % al_length\n",
        "            decode_message += alphabet[new_index]\n",
        "        else:\n",
        "            decode_message += i\n",
        "    return decode_message\n",
        "\n",
        "mes = input(\"Сообщение:\")\n",
        "shift= int(input('Сдвиг:'))\n",
        "\n",
        "encrypted = code(mes, shift)\n",
        "decrypted = decode(encrypted, shift)\n",
        "\n",
        "print(\"Исходное сообщение:\", mes)\n",
        "print(\"Зашифрованное сообщение:\", encrypted)\n",
        "print(\"Расшифрованное сообщение:\", decrypted)\n"
      ],
      "metadata": {
        "id": "anThYirsQe6N"
      },
      "execution_count": null,
      "outputs": []
    },
    {
      "cell_type": "markdown",
      "source": [
        "**Задача 7**\n",
        "\n",
        "Задача: «Банковская система»\n",
        "\n",
        "Создайте программу Python, которая имитирует базовую банковскую систему. Система должна иметь следующие функции:\n",
        "\n",
        "Требования\n",
        "*   Система должна позволять клиентам создавать счета и хранить их балансы.\n",
        "*   Система должна позволять клиентам вносить и снимать деньги со своих счетов.\n",
        "*   Система должна позволять клиентам проверять свой текущий баланс.\n",
        "*   Система должна позволять клиентам переводить деньги между счетами.\n",
        "*   Система должна отслеживать транзакции (депозиты, снятия и переводы) и иметь возможность печатать детали транзакций.\n",
        "\n",
        "\n",
        "Задачи\n",
        "1. Реализуйте банковскую систему, используя только базовые конструкции Python, такие как def, lists, if, elif и else, без классов или словарей.\n",
        "Определите функции для создания счетов, внесения и снятия денег, получения балансов счетов, перевода денег между счетами, а также создания и печати транзакций.\n",
        "2. Напишите основную функцию, которая демонстрирует использование банковской системы путем создания счетов, внесения и снятия денег и перевода денег между счетами.\n",
        "3. Бонусное задание\n",
        "Реализуйте способ хранения и печати истории транзакций для каждого счета.\n",
        "\n",
        "Ограничения\n",
        "Не используйте классы или словари.\n",
        "Используйте только базовые конструкции Python, такие как def, lists, if, elif и else.\n"
      ],
      "metadata": {
        "id": "avFZRRXrQz9O"
      }
    },
    {
      "cell_type": "code",
      "source": [
        "accs = []\n",
        "\n",
        "\n",
        "def create_account(acc_num, start_balance):\n",
        "    accs.append([acc_num, start_balance])\n",
        "    print(f\"Счет {acc_num} создан с начальным балансом {start_balance}\")\n",
        "\n",
        "def depos(acc_num, amount):\n",
        "    for account in accs:\n",
        "        if account[0] == acc_num:\n",
        "            account[1] += amount\n",
        "            print(f\"На счет {acc_num} внесено {amount}. Новый баланс: {account[1]}\")\n",
        "            return\n",
        "    print(\"Счет не найден\")\n",
        "\n",
        "def min_depos(acc_num, amount):\n",
        "    for account in accs:\n",
        "        if account[0] == acc_num:\n",
        "            if account[1] >= amount:\n",
        "                account[1] -= amount\n",
        "                print(f\"Со счета {acc_num} снято {amount}. Новый баланс: {account[1]}\")\n",
        "            else:\n",
        "                print(\"Недостаточно средств на счете\")\n",
        "            return\n",
        "    print(\"Счет не найден\")\n",
        "\n",
        "def get_balance(acc_num):\n",
        "    for account in accs:\n",
        "        if account[0] == acc_num:\n",
        "            print(f\"Баланс счета {acc_num}: {account[1]}\")\n",
        "            return account[1]\n",
        "    print(\"Счет не найден\")\n",
        "    return None\n",
        "\n",
        "def transfer(acc1, acc2, amount):\n",
        "    balance1 = get_balance(acc1)\n",
        "    balance2 = get_balance(acc2)\n",
        "\n",
        "    if balance1 is not None and balance2 is not None:\n",
        "        if balance1 >= amount:\n",
        "            min_depos(acc1, amount)\n",
        "            depos(acc2, amount)\n",
        "            print(f\"Переведено {amount} со счета {acc1} на счет {acc2}\")\n",
        "        else:\n",
        "            print(\"Недостаточно средств для перевода\")\n",
        "\n",
        "\n",
        "def test():\n",
        "    create_account(\"123\", 1000)\n",
        "    create_account(\"456\", 500)\n",
        "    depos(\"123\", 200)\n",
        "    min_depos(\"123\", 300)\n",
        "    transfer(\"123\", \"456\", 400)\n",
        "    get_balance(\"123\")\n",
        "    get_balance(\"456\")\n",
        "test()"
      ],
      "metadata": {
        "id": "dWEW10zIRwjs"
      },
      "execution_count": null,
      "outputs": []
    }
  ]
}