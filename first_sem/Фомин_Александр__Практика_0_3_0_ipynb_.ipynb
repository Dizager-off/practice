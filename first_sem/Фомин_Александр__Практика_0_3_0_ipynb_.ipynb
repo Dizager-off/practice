{
  "nbformat": 4,
  "nbformat_minor": 0,
  "metadata": {
    "colab": {
      "provenance": []
    },
    "kernelspec": {
      "name": "python3",
      "display_name": "Python 3"
    },
    "language_info": {
      "name": "python"
    }
  },
  "cells": [
    {
      "cell_type": "markdown",
      "source": [
        "ФИО"
      ],
      "metadata": {
        "id": "phMKaFq3DN13"
      }
    },
    {
      "cell_type": "code",
      "execution_count": null,
      "metadata": {
        "id": "3CWpaI7SDK8t"
      },
      "outputs": [],
      "source": [
        "Фомин Александр Вадимович"
      ]
    },
    {
      "cell_type": "markdown",
      "source": [
        "**Во всей практике нельзя применять библиотеки предоставляющие готовые решения!**"
      ],
      "metadata": {
        "id": "jyIy3GOgFOCe"
      }
    },
    {
      "cell_type": "markdown",
      "source": [
        "# **Задача 1.**\n"
      ],
      "metadata": {
        "id": "XizmlL1RK2t3"
      }
    },
    {
      "cell_type": "markdown",
      "source": [
        "\n",
        "\n",
        "Типы данных Напишите программу на Python, которая принимает список чисел в качестве входных данных от пользователя, а затем выводит сумму, среднее значение и максимальное значение из списка.\n",
        "\n",
        "***Нельзя использовать: len(), min(), max(), average(), sum()***\n",
        "\n",
        "Ввод:\n",
        "```\n",
        "1 2 3 4 5 6 7\n",
        "```\n",
        "Вывод:\n",
        "\n",
        "```\n",
        "Сумма чисел: 28\n",
        "Среднее арифм.: 4.0\n",
        "Максимальное значение: 7\n",
        "```\n",
        "\n"
      ],
      "metadata": {
        "id": "p0v6KtHTFKSd"
      }
    },
    {
      "cell_type": "code",
      "source": [
        "listok = input(\"Введите список чисел через пробел: \")\n",
        "numbers = list(map(int, listok.split()))\n",
        "\n",
        "\n",
        "summ = 0\n",
        "count = 0\n",
        "for i in numbers:\n",
        "    summ += i\n",
        "    count +=1\n",
        "\n",
        "aver = summ / count\n",
        "\n",
        "maxi = numbers[0]\n",
        "for i in numbers:\n",
        "    if i > maxi:\n",
        "        maxi = i\n",
        "\n",
        "print(f\"Сумма чисел: {summ}\")\n",
        "print(f\"Среднее арифм.: {aver}\")\n",
        "print(f\"Максимальное значение: {maxi}\")"
      ],
      "metadata": {
        "id": "0e1Virl0FpF6",
        "colab": {
          "base_uri": "https://localhost:8080/",
          "height": 356
        },
        "outputId": "fd1bf13f-592c-416a-80be-c410b68a900f"
      },
      "execution_count": null,
      "outputs": [
        {
          "output_type": "error",
          "ename": "KeyboardInterrupt",
          "evalue": "Interrupted by user",
          "traceback": [
            "\u001b[0;31m---------------------------------------------------------------------------\u001b[0m",
            "\u001b[0;31mKeyboardInterrupt\u001b[0m                         Traceback (most recent call last)",
            "\u001b[0;32m<ipython-input-1-296cfbc4a582>\u001b[0m in \u001b[0;36m<cell line: 1>\u001b[0;34m()\u001b[0m\n\u001b[0;32m----> 1\u001b[0;31m \u001b[0mlistok\u001b[0m \u001b[0;34m=\u001b[0m \u001b[0minput\u001b[0m\u001b[0;34m(\u001b[0m\u001b[0;34m\"Введите список чисел через пробел: \"\u001b[0m\u001b[0;34m)\u001b[0m\u001b[0;34m\u001b[0m\u001b[0;34m\u001b[0m\u001b[0m\n\u001b[0m\u001b[1;32m      2\u001b[0m \u001b[0mnumbers\u001b[0m \u001b[0;34m=\u001b[0m \u001b[0mlist\u001b[0m\u001b[0;34m(\u001b[0m\u001b[0mmap\u001b[0m\u001b[0;34m(\u001b[0m\u001b[0mint\u001b[0m\u001b[0;34m,\u001b[0m \u001b[0mlistok\u001b[0m\u001b[0;34m.\u001b[0m\u001b[0msplit\u001b[0m\u001b[0;34m(\u001b[0m\u001b[0;34m)\u001b[0m\u001b[0;34m)\u001b[0m\u001b[0;34m)\u001b[0m\u001b[0;34m\u001b[0m\u001b[0;34m\u001b[0m\u001b[0m\n\u001b[1;32m      3\u001b[0m \u001b[0;34m\u001b[0m\u001b[0m\n\u001b[1;32m      4\u001b[0m \u001b[0;34m\u001b[0m\u001b[0m\n\u001b[1;32m      5\u001b[0m \u001b[0msumm\u001b[0m \u001b[0;34m=\u001b[0m \u001b[0;36m0\u001b[0m\u001b[0;34m\u001b[0m\u001b[0;34m\u001b[0m\u001b[0m\n",
            "\u001b[0;32m/usr/local/lib/python3.10/dist-packages/ipykernel/kernelbase.py\u001b[0m in \u001b[0;36mraw_input\u001b[0;34m(self, prompt)\u001b[0m\n\u001b[1;32m    849\u001b[0m                 \u001b[0;34m\"raw_input was called, but this frontend does not support input requests.\"\u001b[0m\u001b[0;34m\u001b[0m\u001b[0;34m\u001b[0m\u001b[0m\n\u001b[1;32m    850\u001b[0m             )\n\u001b[0;32m--> 851\u001b[0;31m         return self._input_request(str(prompt),\n\u001b[0m\u001b[1;32m    852\u001b[0m             \u001b[0mself\u001b[0m\u001b[0;34m.\u001b[0m\u001b[0m_parent_ident\u001b[0m\u001b[0;34m,\u001b[0m\u001b[0;34m\u001b[0m\u001b[0;34m\u001b[0m\u001b[0m\n\u001b[1;32m    853\u001b[0m             \u001b[0mself\u001b[0m\u001b[0;34m.\u001b[0m\u001b[0m_parent_header\u001b[0m\u001b[0;34m,\u001b[0m\u001b[0;34m\u001b[0m\u001b[0;34m\u001b[0m\u001b[0m\n",
            "\u001b[0;32m/usr/local/lib/python3.10/dist-packages/ipykernel/kernelbase.py\u001b[0m in \u001b[0;36m_input_request\u001b[0;34m(self, prompt, ident, parent, password)\u001b[0m\n\u001b[1;32m    893\u001b[0m             \u001b[0;32mexcept\u001b[0m \u001b[0mKeyboardInterrupt\u001b[0m\u001b[0;34m:\u001b[0m\u001b[0;34m\u001b[0m\u001b[0;34m\u001b[0m\u001b[0m\n\u001b[1;32m    894\u001b[0m                 \u001b[0;31m# re-raise KeyboardInterrupt, to truncate traceback\u001b[0m\u001b[0;34m\u001b[0m\u001b[0;34m\u001b[0m\u001b[0m\n\u001b[0;32m--> 895\u001b[0;31m                 \u001b[0;32mraise\u001b[0m \u001b[0mKeyboardInterrupt\u001b[0m\u001b[0;34m(\u001b[0m\u001b[0;34m\"Interrupted by user\"\u001b[0m\u001b[0;34m)\u001b[0m \u001b[0;32mfrom\u001b[0m \u001b[0;32mNone\u001b[0m\u001b[0;34m\u001b[0m\u001b[0;34m\u001b[0m\u001b[0m\n\u001b[0m\u001b[1;32m    896\u001b[0m             \u001b[0;32mexcept\u001b[0m \u001b[0mException\u001b[0m \u001b[0;32mas\u001b[0m \u001b[0me\u001b[0m\u001b[0;34m:\u001b[0m\u001b[0;34m\u001b[0m\u001b[0;34m\u001b[0m\u001b[0m\n\u001b[1;32m    897\u001b[0m                 \u001b[0mself\u001b[0m\u001b[0;34m.\u001b[0m\u001b[0mlog\u001b[0m\u001b[0;34m.\u001b[0m\u001b[0mwarning\u001b[0m\u001b[0;34m(\u001b[0m\u001b[0;34m\"Invalid Message:\"\u001b[0m\u001b[0;34m,\u001b[0m \u001b[0mexc_info\u001b[0m\u001b[0;34m=\u001b[0m\u001b[0;32mTrue\u001b[0m\u001b[0;34m)\u001b[0m\u001b[0;34m\u001b[0m\u001b[0;34m\u001b[0m\u001b[0m\n",
            "\u001b[0;31mKeyboardInterrupt\u001b[0m: Interrupted by user"
          ]
        }
      ]
    },
    {
      "cell_type": "markdown",
      "source": [
        "# **Задача 2.**"
      ],
      "metadata": {
        "id": "uFluc5OSK0NH"
      }
    },
    {
      "cell_type": "markdown",
      "source": [
        "\n",
        "Напишите программу на Python, которая принимает список слов в качестве входных данных от пользователя, а затем распечатывает список в обратном порядке.\n",
        "\n",
        "Ввод:\n",
        "\n",
        "```\n",
        "апельсин мандарин яблоко\n",
        "```\n",
        "\n",
        "Вывод:\n",
        "\n",
        "```\n",
        "яблоко мандарин апельсин\n",
        "```"
      ],
      "metadata": {
        "id": "6T8vg324GG4Z"
      }
    },
    {
      "cell_type": "code",
      "source": [
        "listok = input(\"Введите список слов через пробел: \")\n",
        "listR = list(listok.split())\n",
        "\n",
        "ans = []\n",
        "k = 0\n",
        "\n",
        "for i in listR:\n",
        "    k += 1\n",
        "    ans.append(listR[-k])\n",
        "print(ans)"
      ],
      "metadata": {
        "id": "v3AWj4ufGKox"
      },
      "execution_count": null,
      "outputs": []
    },
    {
      "cell_type": "markdown",
      "source": [
        "# **Задача 3**"
      ],
      "metadata": {
        "id": "D1KkCxtIKxRx"
      }
    },
    {
      "cell_type": "markdown",
      "source": [
        "Простой чат-бот\n",
        "Создайте простого чат-бота, который отвечает на основные запросы пользователей. Программа должна использовать условные выражения для определения намерений пользователя и последующего соответствующего ответа.\n",
        "\n",
        "Чат бот может:\n",
        "\n",
        "- помогать складывать числа\n",
        "- подсказывать фильм, музыку и тд (из заранее созданного списка)\n",
        "- создавать список дел (а также выводить его, обновлять, очищать)\n",
        "\n",
        "Интерфейс чат-бота на ваше усмотрение, это могут быть как заранее определенные команды, так и к примеру вызов команды по номеру\n",
        "\n",
        "*Реализовать без использования функций*\n",
        "\n",
        "Пример:\n",
        "\n",
        "Ввод:\n",
        "\n",
        "```\n",
        "Олег, какую мызыку посоветуешь?\n",
        "```\n",
        "\n",
        "Вывод:\n",
        "\n",
        "```\n",
        "Я бы посоветовал вам: Led Zeppelin Stairway to Heaven\n",
        "```"
      ],
      "metadata": {
        "id": "Yq8Jgb9yHvSi"
      }
    },
    {
      "cell_type": "code",
      "source": [
        "import random\n",
        "\n",
        "movies = [\"Начало\", \"Матрица\", \"Интерстеллар\", \"Побег из Шоушенко\"]\n",
        "music = [\"Queen - Bohemian Rhapsody\", \"Led Zeppelin - Stairway to Heaven\", \"Imagine Dragons - Enemy\", \"Bossfight - Milky Ways\"]\n",
        "\n",
        "\n",
        "deals_list = []\n",
        "\n",
        "k = -1\n",
        "\n",
        "while True:\n",
        "    user = input(\"Введите команду (или 'выход' для завершения): \")\n",
        "\n",
        "    if user == 'выход':\n",
        "        print(\"До связи\")\n",
        "        break\n",
        "\n",
        "    elif user == 'сложить':\n",
        "        listok = input('Напишите правильный математичческое выражение:')\n",
        "        numbers = list(map(int, listok.split('+')))\n",
        "        print(f\"Сумма: {sum(numbers)}\")\n",
        "\n",
        "\n",
        "    elif user == 'подскажи фильм':\n",
        "        print(f\"Я бы посоветовал вам: {random.choice(movies)}\")\n",
        "\n",
        "\n",
        "    elif user == 'подскажи музыку':\n",
        "        print(f\"Я бы посоветовал вам: {random.choice(music)}\")\n",
        "\n",
        "\n",
        "    elif user == 'список дел':\n",
        "        if not deals_list:\n",
        "            print(\"Список дел пуст.\")\n",
        "        else:\n",
        "            print(\"Ваш список дел:\")\n",
        "\n",
        "            for i in range(len(deals_list)):\n",
        "                print(f\"{deals_list[i]}\")\n",
        "\n",
        "    elif user == 'добавить в список дел':\n",
        "        deals_item = input('Что добавить?:')\n",
        "        deals_list.append(deals_item)\n",
        "        print(f\"'{deals_item}' добавлено в список дел.\")\n",
        "\n",
        "\n",
        "    elif user == 'очистить список дел':\n",
        "        deals_list.clear()\n",
        "        print(\"Список дел очищен.\")\n",
        "\n",
        "    else:\n",
        "        print(\"Извините, я не понимаю команду.\")"
      ],
      "metadata": {
        "id": "fmW-tmUtINN9"
      },
      "execution_count": null,
      "outputs": []
    },
    {
      "cell_type": "markdown",
      "source": [
        "# **Задача 4.**\n"
      ],
      "metadata": {
        "id": "PHXBfyc6Ko7D"
      }
    },
    {
      "cell_type": "markdown",
      "source": [
        "Камень, ножницы, бумага\n",
        "\n",
        "Создайте игру в Камень, ножницы, бумагу, в которой пользователь может играть против компьютера. Программа должна запросить выбор пользователя, а затем сгенерировать выбор компьютера. Затем программа должна определить победителя на основе правил игры.\n",
        "\n",
        "**Этап 1:**\n",
        "\n",
        "Определение победителя\n",
        "\n",
        "**Этап 2:**\n",
        "  \n",
        "Игра до 3 побед\n",
        "\n",
        "\n",
        "Ввод для \"Этап 1\":\n",
        "\n",
        "```\n",
        "Камень\n",
        "```\n",
        "\n",
        "Вывод:\n",
        "\n",
        "```\n",
        "Компьютер: Ножницы\n",
        "Игрок: Камень\n",
        "Победа: Игрок\n",
        "```"
      ],
      "metadata": {
        "id": "jnKWeYleI0j6"
      }
    },
    {
      "cell_type": "code",
      "source": [
        "import random\n",
        "\n",
        "\n",
        "moves = ['камень','ножницы','бумага']\n",
        "\n",
        "def winnerI(user_choice, computer_choice):\n",
        "    if user_choice == computer_choice:\n",
        "        return 'draw'\n",
        "    elif (user_choice == \"камень\" and computer_choice == \"ножницы\") or \\\n",
        "         (user_choice == \"ножницы\" and computer_choice == \"бумага\") or \\\n",
        "         (user_choice == \"бумага\" and computer_choice == \"камень\"):\n",
        "        return 'user'\n",
        "    else:\n",
        "        return 'pc'\n",
        "\n",
        "\n",
        "user_score = 0\n",
        "computer_score = 0\n",
        "\n",
        "while user_score < 3 and computer_score < 3:\n",
        "    user_choice = input(\"Выберите (камень, ножницы, бумага): \")\n",
        "\n",
        "    computer_choice = random.choice(moves)\n",
        "    print(f\"Компьютер: {computer_choice}\")\n",
        "\n",
        "    winner = winnerI(user_choice, computer_choice)\n",
        "\n",
        "    if winner == 'user':\n",
        "        user_score += 1\n",
        "        print(\"Победа: Игрок\")\n",
        "    elif winner == \"pc\":\n",
        "        computer_score += 1\n",
        "        print(\"Победа: Компьютер\")\n",
        "    else:\n",
        "        print(\"Ничья\")\n",
        "\n",
        "    print(f\"Счет - Пользователь: {user_score}, Компьютер: {computer_score}\\n\")\n",
        "\n",
        "\n",
        "if user_score == 3:\n",
        "    print(\"Выиграл игру Игрок\")\n",
        "else:\n",
        "    print(\"Выиграл игру Компьютер\")\n"
      ],
      "metadata": {
        "id": "ooIPCRe_JHkX"
      },
      "execution_count": null,
      "outputs": []
    },
    {
      "cell_type": "markdown",
      "source": [
        "# **Задача 5.**"
      ],
      "metadata": {
        "id": "Hg4FJNFbLHQO"
      }
    },
    {
      "cell_type": "markdown",
      "source": [
        "Создайте игру \"Палач\" или \"Виселица\", в которой пользователь должен угадать слово, предлагая буквы. Программа должна выбрать случайное слово, а затем разрешить пользователю угадывать буквы. После каждого угадывания программа должна сообщать пользователю, есть ли в слове буква или нет.\n",
        "\n",
        "**Этап 1**\n",
        "Создать саму игру (игра должна иметь привлекательный интерфейс, соотвесвующий классической висилице)\n",
        "\n",
        "**Этап 2:**\n",
        "Ввести подсчет количества очков и ограничения на попытки\n",
        "\n",
        "**Этап 3:** Добавить возможность сразу угадать слово"
      ],
      "metadata": {
        "id": "OHqj3HJuLJgY"
      }
    },
    {
      "cell_type": "code",
      "source": [
        "import random\n",
        "\n",
        "words = [\"питон\", \"программирование\", \"смерть\", \"виселица\", \"компьютер\", \"сингулярность\", \"практика\"]\n",
        "max_attempts = 6\n",
        "\n",
        "\n",
        "def hangman(attempts):\n",
        "    stages = [\n",
        "        \"\"\"\n",
        "           ------\n",
        "           |    |\n",
        "           |    O\n",
        "           |   /|\\\\\n",
        "           |   / \\\\\n",
        "           |\n",
        "        \"\"\",\n",
        "        \"\"\"\n",
        "           ------\n",
        "           |    |\n",
        "           |    O\n",
        "           |   /|\\\\\n",
        "           |   /\n",
        "           |\n",
        "        \"\"\",\n",
        "        \"\"\"\n",
        "           ------\n",
        "           |    |\n",
        "           |    O\n",
        "           |   /|\\\\\n",
        "           |\n",
        "           |\n",
        "        \"\"\",\n",
        "        \"\"\"\n",
        "           ------\n",
        "           |    |\n",
        "           |    O\n",
        "           |   /|\n",
        "           |\n",
        "           |\n",
        "        \"\"\",\n",
        "        \"\"\"\n",
        "           ------\n",
        "           |    |\n",
        "           |    O\n",
        "           |    |\n",
        "           |\n",
        "           |\n",
        "        \"\"\",\n",
        "        \"\"\"\n",
        "           ------\n",
        "           |    |\n",
        "           |    O\n",
        "           |\n",
        "           |\n",
        "           |\n",
        "        \"\"\",\n",
        "        \"\"\"\n",
        "           ------\n",
        "           |\n",
        "           |\n",
        "           |\n",
        "           |\n",
        "           |\n",
        "        \"\"\"\n",
        "    ]\n",
        "    return stages[attempts]\n",
        "\n",
        "\n",
        "word = random.choice(words)\n",
        "guessed_letters = []\n",
        "attempts = 0\n",
        "score = 0\n",
        "\n",
        "print(\"Игра Виселица!\")\n",
        "\n",
        "while attempts < max_attempts:\n",
        "    print(hangman(attempts))\n",
        "    print(f\"Слово: {' '.join([i if i in guessed_letters else '_' for i in word])}\")\n",
        "    print(f\"Угаданные буквы: {', '.join(guessed_letters)}\")\n",
        "\n",
        "    guess = input(\"Введите букву или попробуйте угадать слово: \")\n",
        "\n",
        "    if len(guess) == 1 and guess.isalpha():\n",
        "        if guess in guessed_letters:\n",
        "            print(\"Вы уже угадали эту букву.\")\n",
        "        elif guess in word:\n",
        "            guessed_letters.append(guess)\n",
        "            print(\"Правильно!\")\n",
        "            if all(i in guessed_letters for i in word):\n",
        "                score += 1\n",
        "                print(f\"Поздравляем! Вы угадали слово: {word}. Ваш счет: {score}\")\n",
        "                break\n",
        "        else:\n",
        "            guessed_letters.append(guess)\n",
        "            attempts += 1\n",
        "            print(\"Неправильно!\")\n",
        "    elif len(guess) == len(word) and guess.isalpha():\n",
        "        if guess == word:\n",
        "            score += 1\n",
        "            print(f\"Поздравляем! Вы угадали слово: {word}. Ваш счет: {score}\")\n",
        "            break\n",
        "        else:\n",
        "            attempts += 1\n",
        "            print(\"Неправильно!\")\n",
        "    else:\n",
        "        print(\"Неверный ввод. Пожалуйста, попробуйте снова.\")\n",
        "\n",
        "    if attempts == max_attempts:\n",
        "        print(hangman(attempts))\n",
        "        print(f\"Вы проиграли! Загаданное слово было: {word}. Ваш счет: {score}\")"
      ],
      "metadata": {
        "id": "0N2zCYwVLiIw"
      },
      "execution_count": null,
      "outputs": []
    },
    {
      "cell_type": "markdown",
      "source": [
        "# **Дополнительно: Задача 6 (для тех, кто не сделал в прошлый раз)**\n"
      ],
      "metadata": {
        "id": "w0x3QFGzKtDD"
      }
    },
    {
      "cell_type": "markdown",
      "source": [
        "\n",
        "**Цифра на определенном месте:**\n",
        "\n",
        "Последовательно записан натуральный ряд чисел.\n",
        "\n",
        "Какая цифра стоит в N позиции\n",
        "\n",
        "\n",
        "Вввод:\n",
        "\n",
        "```\n",
        "Введите номер позиции: 1234567890\n",
        "```\n",
        "\n",
        "Вывод:\n",
        "\n",
        "```\n",
        "8\n",
        "```"
      ],
      "metadata": {
        "id": "QqZArcpHJxVj"
      }
    },
    {
      "cell_type": "code",
      "source": [],
      "metadata": {
        "id": "LwjYwBGcKiJ9"
      },
      "execution_count": null,
      "outputs": []
    }
  ]
}