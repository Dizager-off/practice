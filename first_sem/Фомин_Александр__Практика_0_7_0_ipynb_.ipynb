{
  "nbformat": 4,
  "nbformat_minor": 0,
  "metadata": {
    "colab": {
      "provenance": []
    },
    "kernelspec": {
      "name": "python3",
      "display_name": "Python 3"
    },
    "language_info": {
      "name": "python"
    }
  },
  "cells": [
    {
      "cell_type": "markdown",
      "source": [
        "ФИО:"
      ],
      "metadata": {
        "id": "ZLVI_WIcuT56"
      }
    },
    {
      "cell_type": "code",
      "source": [
        "Фомин Александр Вадимович"
      ],
      "metadata": {
        "id": "3AfG_Tal0P2S"
      },
      "execution_count": null,
      "outputs": []
    },
    {
      "cell_type": "markdown",
      "source": [
        "## Задание 1. HTTP-запросы, ответы и погода\n",
        "\n",
        "Напишите HTTP-запрос для получения информации о погоде в введенном городе из API. Можно использовать API: https://www.gismeteo.ru/api/. Используйте метод GET.\n",
        "\n",
        "\n",
        "Ввод\n",
        "```\n",
        "Екатеринбург\n",
        "```\n",
        "\n",
        "Вывод\n",
        "```\n",
        "Сегодня (1.11) в Екатеринбург 20 ◦С, нет осадков, туман\n",
        "```\n",
        "\n",
        "\n",
        "\n"
      ],
      "metadata": {
        "id": "FtjnLNIKzfMZ"
      }
    },
    {
      "cell_type": "code",
      "source": [],
      "metadata": {
        "id": "5Mbs40_buVRV"
      },
      "execution_count": null,
      "outputs": []
    },
    {
      "cell_type": "markdown",
      "source": [
        "## Задание 2. HTTP-запросы, ответы и покемоны\n",
        "\n",
        "\n",
        "Создайте код программы, которая будет взаимодействовать с API, со следующим функионалом:\n",
        "\n",
        "1. Используя метод GET, отправьте запрос на endpoint /pokemon, чтобы получить список первых 20 покемонов\n",
        "\n",
        "2. Извлеките имена покемонов из ответа и выведите их списком\n",
        "\n",
        "3. Введите с помощью input() название одного из покемонов\n",
        "\n",
        "\n",
        "```\n",
        "Имя покемона: clefairy\n",
        "```\n",
        "\n",
        "\n",
        "\n",
        "4. Отправьте GET-запрос, чтобы получить полную информацию о выбранном покемоне\n",
        "\n",
        "5. Извлеките и выведите следующие данные о введенном покемоне:\n",
        "\n",
        "     • Имя\n",
        "\n",
        "     • Тип\n",
        "\n",
        "     • Вес\n",
        "\n",
        "     • Рост\n",
        "\n",
        "     • Способности\n",
        "\n",
        "Используйте PokéAPI (https://pokeapi.co/), который предоставляет информацию о покемонах, их характеристиках, типах и другую информацию."
      ],
      "metadata": {
        "id": "oZ1guEbl0PZm"
      }
    },
    {
      "cell_type": "code",
      "source": [
        "pip install requests\n",
        "import requests\n",
        "\n",
        "\n",
        "def get_pokemon_list():\n",
        "    response = requests.get(\"https://pokeapi.co/api/v2/pokemon?limit=20\")\n",
        "\n",
        "    if response.status_code == 200:\n",
        "        data = response.json()\n",
        "        pokemon_list = [pokemon[\"name\"] for pokemon in data[\"results\"]]\n",
        "        print(\"Список первых 20 покемонов:\")\n",
        "        for pokemon in pokemon_list:\n",
        "            print(pokemon)\n",
        "        return pokemon_list\n",
        "\n",
        "\n",
        "def get_pokemon_details(pokemon_name):\n",
        "    response = requests.get(f\"https://pokeapi.co/api/v2/pokemon/{pokemon_name}\")\n",
        "\n",
        "    if response.status_code == 200:\n",
        "        data = response.json()\n",
        "        name = data[\"name\"]\n",
        "        types = [type_info[\"type\"][\"name\"] for type_info in data[\"types\"]]\n",
        "        weight = data[\"weight\"]\n",
        "        height = data[\"height\"]\n",
        "        abilities = [ability[\"ability\"][\"name\"] for ability in data[\"abilities\"]]\n",
        "\n",
        "\n",
        "        print(f\"\\nИнформация о покемоне '{name}':\")\n",
        "        print(f\"Имя: {name.capitalize()}\")\n",
        "        print(f\"Тип: {', '.join(types)}\")\n",
        "        print(f\"Вес: {weight / 10} кг\")\n",
        "        print(f\"Рост: {height / 10} м\")\n",
        "        print(f\"Способности: {', '.join(abilities)}\")\n",
        "\n",
        "\n",
        "\n",
        "if get_pokemon_list():\n",
        "\n",
        "    chosen_pokemon = input(\"\\nВведите имя покемона из списка: \").strip()\n",
        "\n",
        "    if chosen_pokemon.lower() in [pokemon.lower() for pokemon in get_pokemon_list()]:\n",
        "        get_pokemon_details(chosen_pokemon)\n",
        "    else:\n",
        "        print(\"Покемон не найден в списке.\")\n"
      ],
      "metadata": {
        "id": "JkFmivjp25NL"
      },
      "execution_count": null,
      "outputs": []
    },
    {
      "cell_type": "markdown",
      "source": [
        "## Задание 3. HTTP-запросы, ответы и посты\n",
        "\n",
        "Создайте программу, которая будет взаимодействовать с JSONPlaceholder API, реализуя следующие функции:\n",
        "\n",
        "1. Реализуйте функцию, которая выполняет GET-запрос к https://jsonplaceholder.typicode.com/posts и возвращает список постов в формате JSON\n",
        "\n",
        "2. Реализуйте функцию, котороая получает вводимое ID поста, выполняет GET-запрос по ID и возвращает данные поста в формате JSON\n",
        "\n",
        "3. Реализуйте функцию, которая выполняет обработку JSON из пункта 2 и выводит всю важную информацию в консоль"
      ],
      "metadata": {
        "id": "h194KTer1-B3"
      }
    },
    {
      "cell_type": "code",
      "source": [
        "pip install requests\n",
        "import requests\n",
        "\n",
        "def fetch_all_posts():\n",
        "    url = \"https://jsonplaceholder.typicode.com/posts\"\n",
        "    response = requests.get(url)\n",
        "\n",
        "    if response.status_code == 200:\n",
        "        posts = response.json()\n",
        "        print(\"Список всех постов успешно получен.\")\n",
        "        return posts\n",
        "    else:\n",
        "        print(\"Ошибка при получении списка постов.\")\n",
        "        return None\n",
        "\n",
        "\n",
        "\n",
        "def fetch_post_by_id(post_id):\n",
        "    url = f\"https://jsonplaceholder.typicode.com/posts/{post_id}\"\n",
        "    response = requests.get(url)\n",
        "\n",
        "    if response.status_code == 200:\n",
        "        post = response.json()\n",
        "        print(f\"Пост с ID {post_id} успешно получен.\")\n",
        "        return post\n",
        "    else:\n",
        "        print(f\"Ошибка: Пост с ID {post_id} не найден.\")\n",
        "        return None\n",
        "\n",
        "\n",
        "\n",
        "def display_post_info(post):\n",
        "    if post:\n",
        "        print(\"\\nИнформация о посте:\")\n",
        "        print(f\"ID поста: {post['id']}\")\n",
        "        print(f\"ID пользователя: {post['userId']}\")\n",
        "        print(f\"Заголовок: {post['title']}\")\n",
        "        print(f\"Содержание: {post['body']}\")\n",
        "    else:\n",
        "        print(\"Нет данных для отображения.\")\n",
        "\n",
        "\n",
        "if fetch_all_posts():\n",
        "    print(f\"Количество полученных постов: {len(fetch_all_posts())}\")\n",
        "\n",
        "    post_id = input(\"\\nВведите ID поста, который хотите увидеть: \").strip()\n",
        "\n",
        "    if post_id.isdigit():\n",
        "        post_id = int(post_id)\n",
        "        post = fetch_post_by_id(post_id)\n",
        "        display_post_info(post)\n",
        "    else:\n",
        "        print(\"Ошибка: ID поста должно быть числом.\")"
      ],
      "metadata": {
        "id": "YANQx4o258Zn"
      },
      "execution_count": null,
      "outputs": []
    },
    {
      "cell_type": "markdown",
      "source": [
        "## Задание 4. HTTP-запросы, ответы и работа с постами\n",
        "\n",
        "Создайте программу, которая будет взаимодействовать с JSONPlaceholder API (из предыдущего задания), реализуя новые функции:\n",
        "\n",
        "1. Реализуйте функцию, которая принимает заголовок, содержимое и ID пользователя (информация вводится с помощью input()), выполняет POST-запрос для создания нового поста и возвращает информацию о созданном посте в формате JSON\n",
        "\n",
        "\n",
        "```\n",
        "Заголовок: Новый пост\n",
        "Содержимое поста: Тут должно находиться содержимое нового поста...\n",
        "ID пользователя: 10\n",
        "```\n",
        "\n",
        "\n",
        "\n",
        "2. Реализуйте функцию, которая принимает ID поста, новый заголовок и новое содержимое, выполняет PUT-запрос и возвращает обновлённый пост в формате JSON\n",
        "\n",
        "3. Реализуйте функцию, которая принимает ID поста, выполняет DELETE-запрос и возвращает статус-код ответа"
      ],
      "metadata": {
        "id": "4MjiaxDM58ta"
      }
    },
    {
      "cell_type": "code",
      "source": [],
      "metadata": {
        "id": "jZUIdwq96DNl"
      },
      "execution_count": null,
      "outputs": []
    },
    {
      "cell_type": "markdown",
      "source": [
        "## Задание 5. HTTP-запросы, ответы и пёсики\n",
        "\n",
        "Создайте программу, которая будет взаимодействовать с Dog API, которая позволит получать список пород собак, вводить несколько пород и получать их фотогрфии.\n",
        "\n",
        "Этапы:\n",
        "\n",
        "1. Создайте функцию, которая использует метод GET и возвращает список всех пород собак в формате нумерованного списка\n",
        "\n",
        "2. Реализуйте возможность ввода нескольких пород собак через запятую\n",
        "\n",
        "\n",
        "```\n",
        "african, chow, dingo\n",
        "```\n",
        "\n",
        "\n",
        "\n",
        "3. Создание функции, которая реализует запрос, возвращает и выводит изображениия собак, породы которых были введены до этого\n",
        "\n",
        "\n",
        "Используйте Dog API (https://dog.ceo/dog-api/), который предоставляет информацию о породах собак и их изображения.\n"
      ],
      "metadata": {
        "id": "y0EyPsFQ6mSZ"
      }
    },
    {
      "cell_type": "code",
      "source": [],
      "metadata": {
        "id": "CVJx0B9E8au1"
      },
      "execution_count": null,
      "outputs": []
    }
  ]
}