{
  "nbformat": 4,
  "nbformat_minor": 0,
  "metadata": {
    "colab": {
      "provenance": []
    },
    "kernelspec": {
      "name": "python3",
      "display_name": "Python 3"
    },
    "language_info": {
      "name": "python"
    }
  },
  "cells": [
    {
      "cell_type": "markdown",
      "source": [
        "\n",
        "\n",
        "---\n",
        "\n"
      ],
      "metadata": {
        "id": "tKNG_RzWxG6g"
      }
    },
    {
      "cell_type": "code",
      "source": [
        "Фомин Александр Вадимович"
      ],
      "metadata": {
        "id": "ll1brR2js2eO"
      },
      "execution_count": null,
      "outputs": []
    },
    {
      "cell_type": "markdown",
      "source": [
        "# **Дисклеймер**\n",
        "\n",
        "В данной практике будет введен дополнительный критерий: чистота и читаемость кода, а также соблюдение правил описанных в начале практики"
      ],
      "metadata": {
        "id": "cFcrKfclKWh0"
      }
    },
    {
      "cell_type": "markdown",
      "source": [
        "\n",
        "\n",
        "---\n",
        "\n"
      ],
      "metadata": {
        "id": "0SnE87X1xDlV"
      }
    },
    {
      "cell_type": "markdown",
      "source": [
        "# Задание 1\n",
        "\n",
        "**Задача:**\n",
        "\n",
        "Напишите функцию очищающий список от дубликтов\n",
        "\n",
        "\n",
        "*Запрещено:*\n",
        "\n",
        "*   Использовать set() или готовые функции очищающие список от дубликатов\n",
        "\n",
        "Вввод:\n",
        "\n",
        "```\n",
        "apple banana apple 1 3 4 4 5\n",
        "```\n",
        "\n",
        "\n",
        "Вывод:\n",
        "\n",
        "```\n",
        "apple banana 1 3 4 5\n",
        "```\n",
        "\n"
      ],
      "metadata": {
        "id": "VxawR9NubT_F"
      }
    },
    {
      "cell_type": "code",
      "source": [
        "def remove(words):\n",
        "    unique_word = []\n",
        "    for i in words:\n",
        "        if i not in unique_word:\n",
        "            unique_word.append(i)\n",
        "    return unique_word\n",
        "message = input('')\n",
        "result = message.split()\n",
        "\n",
        "print (remove(result))"
      ],
      "metadata": {
        "id": "ml5gnbPXbeju"
      },
      "execution_count": null,
      "outputs": []
    },
    {
      "cell_type": "markdown",
      "source": [
        "# Задание 2\n",
        "\n",
        "**Задача:**\n",
        "\n",
        "Написать функцию для нахождения простых чисел в диапазоне\n",
        "\n",
        "Ввод:\n",
        "\n",
        "```\n",
        "10, 50\n",
        "```\n",
        "\n",
        "Вывод:\n",
        "\n",
        "```\n",
        "11, 13, 17, 19, 23, 29, 31, 37, 41, 43, 47\n",
        "```"
      ],
      "metadata": {
        "id": "y05x0eD0cVCC"
      }
    },
    {
      "cell_type": "code",
      "source": [
        "def delit(number):\n",
        "    for i in range(2, int(number ** 0.5) + 1):\n",
        "        if number % i == 0:\n",
        "            return False\n",
        "    return True\n",
        "\n",
        "\n",
        "message = input('').split()\n",
        "numbers = list(map(int, message))\n",
        "prime = []\n",
        "\n",
        "for i in range(numbers[0], numbers[1]+ 1):\n",
        "    if delit(i):\n",
        "        prime.append(i)\n",
        "print(prime)"
      ],
      "metadata": {
        "id": "XSMJnLgrc6Bf"
      },
      "execution_count": null,
      "outputs": []
    },
    {
      "cell_type": "markdown",
      "source": [
        "# Задание 3\n",
        "\n",
        "Напишите функцию для объединения двух списков (список ключей и список значении) в словарь\n",
        "\n",
        "*Запрещено:*\n",
        "\n",
        "*   Использования готовых функции для объединения списков (пример: zip() )\n",
        "\n",
        "Дано:\n",
        "\n",
        "```\n",
        "keys = ['a', 'b', 'c', 'e' ]\n",
        "values = [1, 2, 3, 4]\n",
        "```\n",
        "\n",
        "Вывод:\n",
        "```\n",
        "{'a': 1, 'b': 2, 'c': 3, 'e': 4}\n",
        "```\n",
        "\n",
        "\n"
      ],
      "metadata": {
        "id": "vYM0LyxxdElN"
      }
    },
    {
      "cell_type": "code",
      "source": [
        "def combine(keys, values):\n",
        "    result = {}\n",
        "    for i in range(len(keys)):\n",
        "        if i < len(values):\n",
        "            result[keys[i]] = values[i]\n",
        "    return result\n",
        "\n",
        "\n",
        "keys = input('').split()\n",
        "values = input('').split()\n",
        "values = list(map(int, values))\n",
        "\n",
        "\n",
        "result = combine(keys, values)\n",
        "print(result)"
      ],
      "metadata": {
        "id": "CRvhHTjCdvjS"
      },
      "execution_count": null,
      "outputs": []
    },
    {
      "cell_type": "markdown",
      "source": [
        "# Задание 4\n",
        "\n",
        "Напишите функцию(ии) для подсчета статистических параметров:\n",
        "*   Сумму\n",
        "*   Среднее арифметическое\n",
        "*   Медиану\n",
        "*   Моду\n",
        "\n",
        "\n",
        "*Запрещено:*\n",
        "\n",
        "*   sum()\n",
        "*   sorted()\n",
        "*   и других функции предоставляющих готовое решение задания\n",
        "\n",
        "Дано:\n",
        "\n",
        "```\n",
        "numbers = [1, 2, 2, 3, 4, 5, 6, 7, 8 ,9 ,10]\n",
        "\n",
        "```\n",
        "\n",
        "Вывод:\n",
        "```\n",
        "{'mean': 5.181818181818182, 'median': 5, 'mode': 2, 'sum': 57}\n",
        "```\n"
      ],
      "metadata": {
        "id": "L_w8H8i-fQcP"
      }
    },
    {
      "cell_type": "code",
      "source": [
        "def calculate_statistics(numbers):\n",
        "\n",
        "    total_sum = 0\n",
        "    k = 0\n",
        "    for num in numbers:\n",
        "        k += 1\n",
        "        total_sum += num\n",
        "\n",
        "\n",
        "    mean = total_sum / k\n",
        "\n",
        "    n = k\n",
        "    middle_index = n // 2\n",
        "\n",
        "    if n % 2 == 1:\n",
        "        median = numbers[middle_index]\n",
        "    else:\n",
        "        lower_middle = numbers[middle_index - 1]\n",
        "        upper_middle = numbers[middle_index]\n",
        "        median = (lower_middle + upper_middle) / 2\n",
        "\n",
        "    frequency = {}\n",
        "    for num in numbers:\n",
        "        if num in frequency:\n",
        "            frequency[num] += 1\n",
        "        else:\n",
        "            frequency[num] = 1\n",
        "\n",
        "    mode = max(frequency, key=frequency.get)\n",
        "\n",
        "    return {\n",
        "        'mean': mean,\n",
        "        'median': median,\n",
        "        'mode': mode,\n",
        "        'sum': total_sum\n",
        "    }\n",
        "\n",
        "\n",
        "\n",
        "numbers = [1, 2, 2, 3, 4, 5, 6, 7, 8, 9, 10]\n",
        "\n",
        "\n",
        "result = calculate_statistics(numbers)\n",
        "print(result)"
      ],
      "metadata": {
        "id": "dW6jW_rjfuba"
      },
      "execution_count": null,
      "outputs": []
    },
    {
      "cell_type": "markdown",
      "source": [
        "# Задание 5\n",
        "\n",
        "На ввод поступает строка символов. Строка состоит из слов, которые отделены друг от друга пробелами. Необходимо вывести самое длинное слово и его порядковый номер.\n",
        "\n",
        "*Запрещено:*\n",
        "\n",
        "*   len()\n",
        "\n",
        "Дано:\n",
        "\n",
        "```\n",
        "Страдание и боль всегда обязательны для широкого сознания и глубокого сердца.\n",
        "\n",
        "```\n",
        "\n",
        "Вывод:\n",
        "```\n",
        "Самое длинное слово с номером 5: обязательны\n",
        "```"
      ],
      "metadata": {
        "id": "hZW0NZ7SgTcp"
      }
    },
    {
      "cell_type": "code",
      "source": [
        "input_string = input('')\n",
        "\n",
        "words = input_string.split()\n",
        "\n",
        "max_length = 0\n",
        "longest_word = \"\"\n",
        "position = 0\n",
        "k = 0\n",
        "\n",
        "for i in words:\n",
        "    k += 1\n",
        "\n",
        "for index in range(k):\n",
        "\n",
        "    current_length = 0\n",
        "    for char in words[index]:\n",
        "        current_length += 1\n",
        "\n",
        "    if current_length > max_length:\n",
        "        max_length = current_length\n",
        "        longest_word = words[index]\n",
        "        position = index + 1\n",
        "\n",
        "print(f\"Самое длинное слово с номером {position}: {longest_word}\")"
      ],
      "metadata": {
        "id": "rC5DpHHLsDYp"
      },
      "execution_count": null,
      "outputs": []
    },
    {
      "cell_type": "markdown",
      "source": [
        "# Задание 6\n",
        "\n",
        "Напишите программу, для управления оценками студентов, со следующими функциями:\n",
        "\n",
        "* Добавление информации о студенте и его оценках.\n",
        "* Подсчет среднего балла студента.\n",
        "* Получение списка всех студентов с их средними баллами.\n",
        "* Поиск студента по имени и вывод его оценок и среднего балла.\n",
        "\n",
        "\n",
        "\n"
      ],
      "metadata": {
        "id": "k5BzJW5ZeaQN"
      }
    },
    {
      "cell_type": "code",
      "source": [
        "import sys\n",
        "\n",
        "students = {}\n",
        "\n",
        "def add_student(name):\n",
        "    if name not in students:\n",
        "        students[name] = []\n",
        "        print(f\"Студент {name} добавлен.\")\n",
        "    else:\n",
        "        print(f\"Студент {name} уже существует.\")\n",
        "\n",
        "def add_grade(name, grade):\n",
        "    if name in students:\n",
        "        students[name].append(grade)\n",
        "        print(f\"Оценка {grade} добавлена студенту {name}.\")\n",
        "    else:\n",
        "        print(f\"Студент {name} не найден.\")\n",
        "\n",
        "def average_grades():\n",
        "    averages = {}\n",
        "    for name, grades in students.items():\n",
        "        if grades:\n",
        "            averages[name] = sum(grades) / len(grades)\n",
        "        else:\n",
        "            averages[name] = 0\n",
        "    return averages\n",
        "\n",
        "def find_student(name):\n",
        "    if name in students:\n",
        "        grades = students[name]\n",
        "        if grades:\n",
        "            average = sum(grades) / len(grades)\n",
        "        else:\n",
        "            average = 0\n",
        "        return {\n",
        "            \"name\": name,\n",
        "            \"grades\": grades,\n",
        "            \"average\": average\n",
        "        }\n",
        "    else:\n",
        "        return None\n",
        "\n",
        "\n",
        "\n",
        "while True:\n",
        "    command = input(\"Введите команду (add_student, add_grade, get_averages, find_student, exit): \").strip()\n",
        "\n",
        "    if command == \"add_student\":\n",
        "        name = input(\"Введите имя студента: \").strip()\n",
        "        add_student(name)\n",
        "\n",
        "    elif command == \"add_grade\":\n",
        "        name = input(\"Введите имя студента: \").strip()\n",
        "        grade = float(input(\"Введите оценку: \"))\n",
        "        add_grade(name, grade)\n",
        "\n",
        "    elif command == \"get_averages\":\n",
        "        averages = average_grades()\n",
        "        print(\"Средние баллы студентов:\", averages)\n",
        "\n",
        "    elif command == \"find_student\":\n",
        "        name = input(\"Введите имя студента: \").strip()\n",
        "        student_info = find_student(name)\n",
        "        if student_info:\n",
        "            print(\n",
        "                f\"Информация о студенте {student_info['name']}: Оценки: {student_info['grades']},\"\n",
        "                f\" Средний балл: {student_info['average']}\")\n",
        "        else:\n",
        "            print(\"Студент не найден.\")\n",
        "\n",
        "    elif command == \"exit\":\n",
        "        sys.exit()\n",
        "\n",
        "    else:\n",
        "        print(\"Неизвестная команда. Пожалуйста попробуйте снова.\")\n"
      ],
      "metadata": {
        "id": "cvhlltVbdyoL"
      },
      "execution_count": null,
      "outputs": []
    },
    {
      "cell_type": "markdown",
      "source": [
        "# Задание 7\n",
        "\n",
        "\n",
        "**Задача:**\n",
        "\n",
        "Создайте приложение-викторину с командной строкой, которое задает пользователям вопросы по различным темам и отслеживает их результаты.\n",
        "\n",
        "Ключевые особенности:\n",
        "\n",
        "*   Хранение данных о вопросах и ответах на них, а также баллов за каждый вопрос\n",
        "*   Реализуйте функцию для представления вопросов, принятия ответов пользователей и предоставления обратной связи о том, являются ли ответы правильными или неправильными.\n",
        "*  После завершения викторины отобразите общий балл пользователя из числа ответов на вопросы.\n",
        "*  Реализуйте функцию добавления нового вопроса\n",
        "*  Реализуйте функцию перемешивания вопросов, для отображения случайного вопроса\n"
      ],
      "metadata": {
        "id": "iQ8Z-7PYgu1_"
      }
    },
    {
      "cell_type": "code",
      "source": [],
      "metadata": {
        "id": "DhxyYwHwh2V4"
      },
      "execution_count": null,
      "outputs": []
    }
  ]
}