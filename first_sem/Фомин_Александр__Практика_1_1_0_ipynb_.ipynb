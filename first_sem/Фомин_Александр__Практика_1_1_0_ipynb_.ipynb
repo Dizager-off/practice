{
  "nbformat": 4,
  "nbformat_minor": 0,
  "metadata": {
    "colab": {
      "provenance": []
    },
    "kernelspec": {
      "name": "python3",
      "display_name": "Python 3"
    },
    "language_info": {
      "name": "python"
    }
  },
  "cells": [
    {
      "cell_type": "markdown",
      "source": [
        "**ФИО:**"
      ],
      "metadata": {
        "id": "GEsFKJm-ABFp"
      }
    },
    {
      "cell_type": "code",
      "execution_count": null,
      "metadata": {
        "id": "wZMLYG_G_-19"
      },
      "outputs": [],
      "source": [
        "Фомин Александр Вадимович"
      ]
    },
    {
      "cell_type": "markdown",
      "source": [
        "# Задание 1"
      ],
      "metadata": {
        "id": "H4DrYnJjADuZ"
      }
    },
    {
      "cell_type": "markdown",
      "source": [
        "**Описание:** Создайте иерархию классов для разных типов сотрудников в компании. Реализуйте родительский класс Employee и дочерние классы Manager и Developer. Каждый класс должен иметь метод для расчета зарплаты на основе различных критериев класса.\n",
        "\n",
        "\n",
        "Отрабатываемый принцип: Наследование\n",
        "\n"
      ],
      "metadata": {
        "id": "C17FWep-AF4a"
      }
    },
    {
      "cell_type": "code",
      "source": [
        "class Employee:\n",
        "    def __init__(self, name, base_salary):\n",
        "        self.name = name\n",
        "        self.base_salary = base_salary\n",
        "\n",
        "    def calculate_salary(self):\n",
        "        return self.base_salary\n",
        "\n",
        "    def __str__(self):\n",
        "        return f\"{self.__class__.__name__}: {self.name}, Зарплата: {self.base_salary}\"\n",
        "\n",
        "\n",
        "class Manager(Employee):\n",
        "    def __init__(self, name, base_salary, bonus):\n",
        "        super().__init__(name, base_salary)\n",
        "        self.bonus = bonus\n",
        "\n",
        "    def calculate_salary(self):\n",
        "        return self.base_salary + self.bonus\n",
        "\n",
        "    def __str__(self):\n",
        "        return super().__str__() + f\", Бонус: {self.bonus}\"\n",
        "\n",
        "\n",
        "class Developer(Employee):\n",
        "    def __init__(self, name, base_salary, overtime_hours, overtime_rate):\n",
        "        super().__init__(name, base_salary)\n",
        "        self.overtime_hours = overtime_hours\n",
        "        self.overtime_rate = overtime_rate\n",
        "\n",
        "    def calculate_salary(self):\n",
        "        return self.base_salary + (self.overtime_hours * self.overtime_rate)\n",
        "\n",
        "    def __str__(self):\n",
        "        return super().__str__() + (f\", Часы переработки: {self.overtime_hours}, \"\n",
        "                                    f\"Сверхдоход: {self.overtime_rate * self.overtime_hours}\")\n",
        "\n",
        "\n",
        "if __name__ == \"__main__\":\n",
        "    emp1 = Employee(\"Василий Пупкин\", 3000)\n",
        "    manager = Manager(\"Григорий Подступов\", 5000, 2000)\n",
        "    developer = Developer(\"Борис Репетур\", 4000, 10, 50)\n",
        "\n",
        "    employees = [emp1, manager, developer]\n",
        "\n",
        "    for emp in employees:\n",
        "        print(emp)\n",
        "        print(f\"Итоговая Зарплата: {emp.calculate_salary()}\")\n",
        "        print(\"-\" * 40)\n"
      ],
      "metadata": {
        "id": "aexGXzqCAFH7"
      },
      "execution_count": null,
      "outputs": []
    },
    {
      "cell_type": "markdown",
      "source": [
        "# Задание 2"
      ],
      "metadata": {
        "id": "ERAi0TG5BI6v"
      }
    },
    {
      "cell_type": "markdown",
      "source": [
        "**Описание:** Создайте иерархию классов для различных типов транспортных средств (Необходим один родительский класс и 3 дочерних). Реализуйте метод, который позволяет каждому транспортному средству возвращать собственное описание (Метод в каждом классе должен иметь одинаковое название). Продемонстрируйте вызов данного метода для каждого транспортного средства.\n",
        "\n",
        "\n",
        "Отрабатываемый принцип: Полиморфизм"
      ],
      "metadata": {
        "id": "sJ3k7ZcgBK87"
      }
    },
    {
      "cell_type": "code",
      "source": [
        "class Vehicle:\n",
        "    def __init__(self, name, max_speed):\n",
        "        self.name = name\n",
        "        self.max_speed = max_speed\n",
        "\n",
        "    # def get_description(self):\n",
        "    #     return f\"{self.name} имеет максимальную скорость {self.max_speed} км/ч.\"\n",
        "\n",
        "\n",
        "class Car(Vehicle):\n",
        "    def __init__(self, name, max_speed, num_doors):\n",
        "        super().__init__(name, max_speed)\n",
        "        self.num_doors = num_doors\n",
        "\n",
        "    def get_description(self):\n",
        "        return f\"Автомобиль {self.name} с {self.num_doors} дверьми и максимальной скоростью {self.max_speed} км/ч.\"\n",
        "\n",
        "\n",
        "class Bicycle(Vehicle):\n",
        "    def __init__(self, name, max_speed, type_of_bicycle):\n",
        "        super().__init__(name, max_speed)\n",
        "        self.type_of_bicycle = type_of_bicycle\n",
        "\n",
        "    def get_description(self):\n",
        "        return f\"Велосипед {self.name} типа '{self.type_of_bicycle}' с максимальной скоростью {self.max_speed} км/ч.\"\n",
        "\n",
        "\n",
        "class Boat(Vehicle):\n",
        "    def __init__(self, name, max_speed, capacity):\n",
        "        super().__init__(name, max_speed)\n",
        "        self.capacity = capacity\n",
        "\n",
        "    def get_description(self):\n",
        "        return f\"Лодка {self.name} с вместимостью {self.capacity} человек и максимальной скоростью {self.max_speed} км/ч.\"\n",
        "\n",
        "\n",
        "if __name__ == \"__main__\":\n",
        "    car = Car(\"Toyota Camry\", 220, 4)\n",
        "    bicycle = Bicycle(\"Giant\", 40, \"горный\")\n",
        "    boat = Boat(\"Yamaha\", 80, 6)\n",
        "\n",
        "    vehicles = [car, bicycle, boat]\n",
        "\n",
        "    for vehicle in vehicles:\n",
        "        print(vehicle.get_description())\n"
      ],
      "metadata": {
        "id": "WOFOZQmDBKf4"
      },
      "execution_count": null,
      "outputs": []
    },
    {
      "cell_type": "markdown",
      "source": [
        "# Задание 3"
      ],
      "metadata": {
        "id": "7E_SJXMJBvD4"
      }
    },
    {
      "cell_type": "markdown",
      "source": [
        "Онлайн-магазин:\n",
        "- Создайте модель для онлайн-магазина с классами Product, Order, Customer, и ShoppingCart.\n",
        "- Product включает информацию о цене, наличии на складе и категории товара.\n",
        "Order обрабатывает процесс покупки, включая расчет цены с учетом скидок и налогов.\n",
        "- Customer управляет информацией о пользователе и его истории заказов.\n",
        "- ShoppingCart позволяет добавлять, удалять и обновлять количество товаров перед оформлением заказа.\n"
      ],
      "metadata": {
        "id": "dd1mwKj_BxHa"
      }
    },
    {
      "cell_type": "code",
      "source": [
        "class Product:\n",
        "    def __init__(self, name, price, stock, category):\n",
        "        self.name = name\n",
        "        self.price = price\n",
        "        self.stock = stock\n",
        "        self.category = category\n",
        "\n",
        "    def is_available(self, quantity):\n",
        "        return self.stock >= quantity\n",
        "\n",
        "    def reduce_stock(self, quantity):\n",
        "        if self.is_available(quantity):\n",
        "            self.stock -= quantity\n",
        "\n",
        "    def __str__(self):\n",
        "        return f\"{self.name} ({self.category}): {self.price} руб., На складе: {self.stock}\"\n",
        "\n",
        "\n",
        "class Customer:\n",
        "    def __init__(self, name):\n",
        "        self.name = name\n",
        "        self.order_history = []\n",
        "\n",
        "    def add_order(self, order):\n",
        "        self.order_history.append(order)\n",
        "\n",
        "    def __str__(self):\n",
        "        return f\"Покупатель: {self.name}\"\n",
        "\n",
        "\n",
        "class ShoppingCart:\n",
        "    def __init__(self):\n",
        "        self.cart = {}\n",
        "\n",
        "    def add_product(self, product, quantity):\n",
        "        if product.is_available(quantity):\n",
        "            self.cart[product] = self.cart.get(product, 0) + quantity\n",
        "        else:\n",
        "            print(f\"Недостаточно товара: {product.name}\")\n",
        "\n",
        "    def calculate_total(self):\n",
        "        return sum(product.price * quantity for product, quantity in self.cart.items())\n",
        "\n",
        "    def __str__(self):\n",
        "        items = [f\"{product.name} x {quantity}\" for product, quantity in self.cart.items()]\n",
        "        return \"\\n\".join(items)\n",
        "\n",
        "\n",
        "class Order:\n",
        "    def __init__(self, customer, cart, discount=0, tax_rate=0.1):\n",
        "        self.customer = customer\n",
        "        self.cart = cart\n",
        "        self.discount = discount\n",
        "        self.tax_rate = tax_rate\n",
        "        self.total = self.calculate_total()\n",
        "\n",
        "    def calculate_total(self):\n",
        "        subtotal = self.cart.calculate_total()\n",
        "        discount_amount = subtotal * (self.discount / 100)\n",
        "        tax_amount = (subtotal - discount_amount) * self.tax_rate\n",
        "        return subtotal - discount_amount + tax_amount\n",
        "\n",
        "    def process(self):\n",
        "        for product, quantity in self.cart.cart.items():\n",
        "            product.reduce_stock(quantity)\n",
        "        self.customer.add_order(self)\n",
        "\n",
        "    def __str__(self):\n",
        "        return (f\"Заказ для {self.customer.name}, Сумма: {self.total:.2f} руб., \"\n",
        "                f\"Скидка: {self.discount}%, Налог: {self.tax_rate * 100}%\")\n",
        "\n",
        "\n",
        "if __name__ == \"__main__\":\n",
        "    phone = Product(\"Смартфон\", 50000, 10, \"Электроника\")\n",
        "    book = Product(\"Книга\", 500, 20, \"Книги\")\n",
        "    laptop = Product(\"Ноутбук\", 120000, 5, \"Электроника\")\n",
        "\n",
        "\n",
        "    customer = Customer(\"Алексей\")\n",
        "\n",
        "\n",
        "    cart1 = ShoppingCart()\n",
        "    cart1.add_product(phone, 1)\n",
        "    cart1.add_product(book, 2)\n",
        "    print(\"Первая корзина:\")\n",
        "    print(cart1)\n",
        "    print(f\"Итого (без налогов и скидок): {cart1.calculate_total()} руб.\\n\")\n",
        "\n",
        "    order1 = Order(customer, cart1, discount=10, tax_rate=0.2)\n",
        "    print(\"Обработка первого заказа:\")\n",
        "    order1.process()\n",
        "    print(order1)\n",
        "\n",
        "    cart2 = ShoppingCart()\n",
        "    cart2.add_product(laptop, 1)\n",
        "    print(\"\\nВторая корзина:\")\n",
        "    print(cart2)\n",
        "    print(f\"Итого (без налогов и скидок): {cart2.calculate_total()} руб.\\n\")\n",
        "\n",
        "    order2 = Order(customer, cart2, discount=5, tax_rate=0.18)\n",
        "    print(\"Обработка второго заказа:\")\n",
        "    order2.process()\n",
        "    print(order2)\n",
        "\n",
        "    print(\"\\nИстория заказов:\")\n",
        "    for past_order in customer.order_history:\n",
        "        print(past_order)\n",
        "\n",
        "    print(\"\\nОбновленный склад:\")\n",
        "    print(phone)\n",
        "    print(book)\n",
        "    print(laptop)\n"
      ],
      "metadata": {
        "id": "wkCcv_K-Bwdv"
      },
      "execution_count": null,
      "outputs": []
    },
    {
      "cell_type": "markdown",
      "source": [
        "# Задание 4"
      ],
      "metadata": {
        "id": "ih7iPlYfB7lL"
      }
    },
    {
      "cell_type": "markdown",
      "source": [
        "Симулятор космического корабля:\n",
        "- Создайте симулятор управления космическим кораблем с классами SpaceShip, CrewMember, и Mission.\n",
        "- SpaceShip имеет атрибуты для управления топливом, состоянием корпуса, и текущей скоростью.\n",
        "- CrewMember контролирует здоровье, навыки, и роли в команде (например, пилот, инженер).\n",
        "- Mission определяет цели, ресурсы, и возможные события (например, аварии, встречи с астероидами)."
      ],
      "metadata": {
        "id": "zLwqVCbpCBvc"
      }
    },
    {
      "cell_type": "code",
      "source": [],
      "metadata": {
        "id": "4NyrOOy8B9ED"
      },
      "execution_count": null,
      "outputs": []
    },
    {
      "cell_type": "markdown",
      "source": [
        "# Дополнительно:"
      ],
      "metadata": {
        "id": "F7mRVsZjCXk0"
      }
    },
    {
      "cell_type": "markdown",
      "source": [
        "**Описание:** создайте консольную версию игры крестики-нолики, используя классы"
      ],
      "metadata": {
        "id": "X4Lkf86UCc1h"
      }
    },
    {
      "cell_type": "code",
      "source": [
        "class TicTacToe:\n",
        "    def __init__(self):\n",
        "        self.board = [[\" \" for _ in range(3)] for _ in range(3)]\n",
        "        self.current_player = \"X\"\n",
        "\n",
        "    def display_board(self):\n",
        "        print(\"\\n  0   1   2\")\n",
        "        for i, row in enumerate(self.board):\n",
        "            print(f\"{i} \" + \" | \".join(row))\n",
        "            if i < 2:\n",
        "                print(\"  ---------\")\n",
        "\n",
        "    def make_move(self, row, col):\n",
        "        if self.board[row][col] == \" \":\n",
        "            self.board[row][col] = self.current_player\n",
        "            print(f\"Игрок {self.current_player} сделал ход: ({row}, {col})\")\n",
        "            return True\n",
        "        else:\n",
        "            print(\"Эта клетка уже занята! Попробуйте снова.\")\n",
        "            return False\n",
        "\n",
        "    def check_winner(self):\n",
        "        for i in range(3):\n",
        "            if self.board[i][0] == self.board[i][1] == self.board[i][2] != \" \":\n",
        "                return self.board[i][0]\n",
        "            if self.board[0][i] == self.board[1][i] == self.board[2][i] != \" \":\n",
        "                return self.board[0][i]\n",
        "\n",
        "        if self.board[0][0] == self.board[1][1] == self.board[2][2] != \" \":\n",
        "            return self.board[0][0]\n",
        "        if self.board[0][2] == self.board[1][1] == self.board[2][0] != \" \":\n",
        "            return self.board[0][2]\n",
        "\n",
        "        return None\n",
        "\n",
        "    def check_draw(self):\n",
        "        return all(cell != \" \" for row in self.board for cell in row)\n",
        "\n",
        "    def switch_player(self):\n",
        "        self.current_player = \"O\" if self.current_player == \"X\" else \"X\"\n",
        "\n",
        "    def play(self):\n",
        "        print(\"Добро пожаловать в игру Крестики-нолики!\")\n",
        "        while True:\n",
        "            self.display_board()\n",
        "            print(f\"Ход игрока {self.current_player}\")\n",
        "\n",
        "            try:\n",
        "                row, col = map(int, input(\"Введите строку и столбец через пробел (например, '0 1'): \").split())\n",
        "                if row not in range(3) or col not in range(3):\n",
        "                    print(\"Неверный ввод! Координаты должны быть от 0 до 2.\")\n",
        "                    continue\n",
        "            except ValueError:\n",
        "                print(\"Неверный ввод! Введите два числа через пробел.\")\n",
        "                continue\n",
        "\n",
        "            if self.make_move(row, col):\n",
        "                if self.check_winner():\n",
        "                    self.display_board()\n",
        "                    print(f\"Поздравляем! Игрок {self.check_winner()} победил!\")\n",
        "                    break\n",
        "\n",
        "                if self.check_draw():\n",
        "                    self.display_board()\n",
        "                    print(\"Ничья! Все клетки заполнены.\")\n",
        "                    break\n",
        "\n",
        "                self.switch_player()\n",
        "\n",
        "\n",
        "if __name__ == \"__main__\":\n",
        "    game = TicTacToe()\n",
        "    game.play()\n",
        "\n"
      ],
      "metadata": {
        "id": "x9OxpNsyCcUo"
      },
      "execution_count": null,
      "outputs": []
    }
  ]
}