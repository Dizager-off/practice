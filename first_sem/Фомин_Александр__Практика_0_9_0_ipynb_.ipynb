{
  "nbformat": 4,
  "nbformat_minor": 0,
  "metadata": {
    "colab": {
      "provenance": []
    },
    "kernelspec": {
      "name": "python3",
      "display_name": "Python 3"
    },
    "language_info": {
      "name": "python"
    }
  },
  "cells": [
    {
      "cell_type": "markdown",
      "source": [
        "ФИО"
      ],
      "metadata": {
        "id": "8hJfL9b2l439"
      }
    },
    {
      "cell_type": "code",
      "source": [
        "Фомин Александр Вадимович"
      ],
      "metadata": {
        "id": "wRnqvYOkl6EX"
      },
      "execution_count": null,
      "outputs": []
    },
    {
      "cell_type": "markdown",
      "source": [
        "# Дисклеймер"
      ],
      "metadata": {
        "id": "weOtPwPQmgpD"
      }
    },
    {
      "cell_type": "markdown",
      "source": [
        "В данной практике вам необходимо применить все ваши знания по темам:\n",
        "\n",
        "- Функции\n",
        "- Словари\n",
        "- Списки\n",
        "- Множества\n",
        "- Условные конструкции\n",
        "- Запросы\n",
        "\n",
        "и все что было изучено на прошлых практических занятиях\n",
        "\n",
        "В каждом задании кратко описаны функции, которые необходимо реализовать, детали реализации вы должны продумать самостоятельно.\n",
        "\n",
        "# **Дисклеймер 2**\n",
        "\n",
        "В данной практике также учитывается критерий: чистота и читаемость кода"
      ],
      "metadata": {
        "id": "LznB3uscmjDa"
      }
    },
    {
      "cell_type": "markdown",
      "source": [
        "# Задание 0"
      ],
      "metadata": {
        "id": "7nSJIqkTvC_C"
      }
    },
    {
      "cell_type": "markdown",
      "source": [
        "Создайте функцию по нахождению уникальных элементов из двух списков\n",
        "\n",
        "\n",
        "\n",
        "```\n",
        "a = [1, 2, 3, 4]\n",
        "b = [3, 4, 5, 6]\n",
        "```\n",
        "\n"
      ],
      "metadata": {
        "id": "exACjTiVvGUe"
      }
    },
    {
      "cell_type": "code",
      "source": [
        "def unique_elements(list1, list2):\n",
        "    list_final = list1 + list2\n",
        "    return list(set(list_final))\n",
        "\n",
        "a = [1, 2, 3, 4]\n",
        "b = [3, 4, 5, 6]\n",
        "c = unique_elements(a, b)\n",
        "print(c)"
      ],
      "metadata": {
        "id": "V_31CrfGbH7V"
      },
      "execution_count": null,
      "outputs": []
    },
    {
      "cell_type": "markdown",
      "source": [
        "# Задание 1"
      ],
      "metadata": {
        "id": "SVWNlBALpCNo"
      }
    },
    {
      "cell_type": "markdown",
      "source": [
        "Симулятор виртуального питомца\n",
        "\n",
        "Цель: создать виртуальный симулятор домашних животных, в котором пользователи смогут заводить питомцев и ухаживать за ними.\n",
        "\n",
        "Требования:\n",
        "\n",
        "- Функция для усыновления питомца (имя, тип, возраст).\n",
        "- Функция для того, чтобы покормить питомца, поиграть с ним или уложить его спать.\n",
        "- Функция для отображения состояния питомца (голод, радость, энергия)."
      ],
      "metadata": {
        "id": "RcKA-VEqpC7f"
      }
    },
    {
      "cell_type": "code",
      "source": [
        "class Pet:\n",
        "    def __init__(self, name, pet_type, age):\n",
        "        self.name = name\n",
        "        self.pet_type = pet_type\n",
        "        self.age = age\n",
        "        self.hunger = 5\n",
        "        self.happiness = 5\n",
        "        self.energy = 5\n",
        "\n",
        "    def feed(self):\n",
        "        if self.hunger > 0:\n",
        "            self.hunger -= 1\n",
        "            print(f\"{self.name} поел! Уровень голода: {self.hunger}\")\n",
        "        else:\n",
        "            print(f\"{self.name} не голоден\")\n",
        "\n",
        "    def play(self):\n",
        "        if self.hunger >= 10:\n",
        "            print(f\"{self.name} хочет кушать!\")\n",
        "        elif self.happiness < 10:\n",
        "            self.happiness += 1\n",
        "            self.hunger += 1\n",
        "            self.energy -= 1\n",
        "            print(f\"{self.name} поиграл! Уровень радости: {self.happiness}\")\n",
        "        else:\n",
        "            print(f\"{self.name} уже очень счастлив!\")\n",
        "\n",
        "    def sleep(self):\n",
        "        if self.hunger >= 10:\n",
        "            print(f\"{self.name} хочет кушать!\")\n",
        "        elif self.energy < 10:\n",
        "            self.energy += 1\n",
        "            self.hunger += 1\n",
        "            print(f\"{self.name} поспал! Уровень энергии: {self.energy}\")\n",
        "        else:\n",
        "            print(f\"{self.name} уже отдохнул\")\n",
        "\n",
        "    def display_status(self):\n",
        "        print(f\"Состояние {self.name}:\")\n",
        "        print(f\"  Голод: {self.hunger}/10\")\n",
        "        print(f\"  Радость: {self.happiness}/10\")\n",
        "        print(f\"  Энергия: {self.energy}/10\")\n",
        "\n",
        "\n",
        "def adopt_pet():\n",
        "    name = input(\"Введите имя питомца: \")\n",
        "    pet_type = input(\"Введите тип питомца (например, собака, кошка): \")\n",
        "    age = int(input(\"Введите возраст питомца: \"))\n",
        "    return Pet(name, pet_type, age)\n",
        "\n",
        "\n",
        "my_pet = adopt_pet()\n",
        "while True:\n",
        "    print(\"\\nВыберите действие:\")\n",
        "    print(\"1. Покормить питомца\")\n",
        "    print(\"2. Поиграть с питомцем\")\n",
        "    print(\"3. Уложить питомца спать\")\n",
        "    print(\"4. Посмотреть состояние питомца\")\n",
        "    print(\"5. Завести нового питомца\")\n",
        "    print(\"6. Выйти\")\n",
        "\n",
        "    choice = input(\"Введите номер действия: \")\n",
        "    if choice == \"1\":\n",
        "        my_pet.feed()\n",
        "    elif choice == \"2\":\n",
        "        my_pet.play()\n",
        "    elif choice == \"3\":\n",
        "        my_pet.sleep()\n",
        "    elif choice == \"4\":\n",
        "        my_pet.display_status()\n",
        "    elif choice == \"5\":\n",
        "        my_pet = adopt_pet()\n",
        "    elif choice == \"6\":\n",
        "        print(\"До свидания!\")\n",
        "        break\n",
        "    else:\n",
        "        print(\"Неверный выбор. Попробуйте снова\")"
      ],
      "metadata": {
        "id": "hE7mF-HXpJLO"
      },
      "execution_count": null,
      "outputs": []
    },
    {
      "cell_type": "markdown",
      "source": [
        "# Задание 2"
      ],
      "metadata": {
        "id": "qZ7qFQnmssNd"
      }
    },
    {
      "cell_type": "markdown",
      "source": [
        "Рыцарь и дракон\n",
        "\n",
        "Цель: создать небольшую игру, в которой вам необходимо играть за рыцаря и сразиться с драконом\n",
        "\n",
        "Требования:\n",
        "\n",
        "- Создание персонажа (имя, информация о доспехах, оружии, урон, здоровье)\n",
        "- Управление персонажем и мини сюжет\n",
        "- Создание дракона (Имя, информация о здоровье и уроне)\n",
        "- Боевая система (нанесение и получение урона, урон должен быть случайным в заданном диапазоне)\n",
        "- Реализовать бой между драконом и рыцарем"
      ],
      "metadata": {
        "id": "UaccTe7ltNvg"
      }
    },
    {
      "cell_type": "code",
      "source": [
        "import random\n",
        "import time\n",
        "\n",
        "\n",
        "def create_knight():\n",
        "    name = input(\"Введите имя рыцаря: \")\n",
        "    armor_name = input(f\"Какие доспехи носит {name}?: \")\n",
        "    armor_defense = int(input(\"Введите показатель защиты рыцаря (например, 5): \"))\n",
        "    weapon_name = input(f\"Какое оружие держит {name}?: \")\n",
        "    weapon_damage_min = int(input(\"Введите минимальный урон оружия рыцаря (например, 5): \"))\n",
        "    weapon_damage_max = int(input(\"Введите максимальный урон оружия рыцаря (например, 15): \"))\n",
        "    health = int(input(\"Введите здоровье рыцаря (например, 50): \"))\n",
        "\n",
        "    knight = {\n",
        "        \"name\": name,\n",
        "        \"armor\": {\n",
        "            \"type\": armor_name,\n",
        "            \"defense\": armor_defense\n",
        "        },\n",
        "        \"weapon\": {\n",
        "            \"type\": weapon_name,\n",
        "            \"damage_range\": (weapon_damage_min, weapon_damage_max)\n",
        "        },\n",
        "        \"health\": health\n",
        "    }\n",
        "    print(f\"\\nРыцарь {knight['name']} готов к битве!\")\n",
        "    return knight\n",
        "\n",
        "\n",
        "\n",
        "def create_dragon():\n",
        "    name = input(\"Введите имя дракона: \")\n",
        "    damage_min = int(input(\"Введите минимальный урон дракона (например, 8): \"))\n",
        "    damage_max = int(input(\"Введите максимальный урон дракона (например, 20): \"))\n",
        "    health = int(input(\"Введите здоровье дракона (например, 60): \"))\n",
        "\n",
        "    dragon = {\n",
        "        \"name\": name,\n",
        "        \"health\": health,\n",
        "        \"damage_range\": (damage_min, damage_max)\n",
        "    }\n",
        "    print(f\"{dragon['name']} появился на горизонте!\")\n",
        "    return dragon\n",
        "\n",
        "\n",
        "\n",
        "def calculate_damage(damage, defense):\n",
        "    net_damage = max(damage - defense, 0)\n",
        "    return net_damage\n",
        "\n",
        "\n",
        "\n",
        "def battle(knight, dragon):\n",
        "    print(\"\\nБитва началась!\")\n",
        "    while knight[\"health\"] > 0 and dragon[\"health\"] > 0:\n",
        "\n",
        "        knight_attack = random.randint(*knight[\"weapon\"][\"damage_range\"])\n",
        "        dragon[\"health\"] -= knight_attack\n",
        "        print(f\"\\n{knight['name']} атакует {dragon['name']} и наносит {knight_attack} урона.\")\n",
        "        print(f\"Здоровье дракона: {dragon['health']}\")\n",
        "\n",
        "        if dragon[\"health\"] <= 0:\n",
        "            print(f\"\\nПоздравляем! {knight['name']} победил дракона!\")\n",
        "            break\n",
        "\n",
        "        dragon_attack = random.randint(*dragon[\"damage_range\"])\n",
        "        damage_taken = calculate_damage(dragon_attack, knight[\"armor\"][\"defense\"])\n",
        "        knight[\"health\"] -= damage_taken\n",
        "        print(f\"{dragon['name']} атакует {knight['name']} и наносит {damage_taken} урона (после защиты).\")\n",
        "        print(f\"Здоровье рыцаря: {knight['health']}\")\n",
        "\n",
        "        if knight[\"health\"] <= 0:\n",
        "            print(f\"\\n{knight['name']} пал в битве. Дракон победил!\")\n",
        "            break\n",
        "\n",
        "\n",
        "        time.sleep(1)\n",
        "\n",
        "\n",
        "def main():\n",
        "    print(\"Добро пожаловать в игру 'Рыцарь и Дракон'!\")\n",
        "    knight = create_knight()\n",
        "    dragon = create_dragon()\n",
        "\n",
        "    print(f\"\\n{knight['name']} встречает {dragon['name']}! Бой не избежать.\")\n",
        "    time.sleep(2)\n",
        "    battle(knight, dragon)\n",
        "    print(\"Игра окончена.\")\n",
        "\n",
        "\n",
        "main()\n"
      ],
      "metadata": {
        "id": "LCcxp5Q0srjY"
      },
      "execution_count": null,
      "outputs": []
    },
    {
      "cell_type": "markdown",
      "source": [
        "# Задание 3\n"
      ],
      "metadata": {
        "id": "N8oFiEXol3e2"
      }
    },
    {
      "cell_type": "markdown",
      "source": [
        "Цель - создать менеджера команды Pokémon, который позволит пользователям:\n",
        "\n",
        "- Добавлять покемонов в свою команду. (если такого покемона еще нет в команде)\n",
        "- Удалять покемонов из их команды.\n",
        "- Просматривать подробную информацию обо всех покемонах в команде.\n",
        "- Находить покемона по имени.\n",
        "- Устраивать тренировочный бой между двумя покемонами\n",
        "\n",
        "Для данной задачи используйте: https://pokeapi.co/\n"
      ],
      "metadata": {
        "id": "9p4WQG_Vl7wB"
      }
    },
    {
      "cell_type": "code",
      "source": [
        "pip install requests\n",
        "\n",
        "import requests\n",
        "import random\n",
        "\n",
        "team = {}\n",
        "\n",
        "\n",
        "def get_pokemon_info(name):\n",
        "    url = f\"https://pokeapi.co/api/v2/pokemon/{name.lower()}\"\n",
        "    response = requests.get(url)\n",
        "    if response.status_code == 200:\n",
        "        data = response.json()\n",
        "        pokemon_info = {\n",
        "            \"name\": data[\"name\"].capitalize(),\n",
        "            \"id\": data[\"id\"],\n",
        "            \"height\": data[\"height\"],\n",
        "            \"weight\": data[\"weight\"],\n",
        "            \"base_experience\": data[\"base_experience\"],\n",
        "            \"types\": [type_data[\"type\"][\"name\"] for type_data in data[\"types\"]],\n",
        "        }\n",
        "        return pokemon_info\n",
        "    else:\n",
        "        print(f\"Покемон '{name}' не найден!\")\n",
        "        return None\n",
        "\n",
        "\n",
        "def add_pokemon(name):\n",
        "    if name.lower() in team:\n",
        "        print(f\"{name.capitalize()} уже находится в вашей команде.\")\n",
        "    else:\n",
        "        pokemon_info = get_pokemon_info(name)\n",
        "        if pokemon_info:\n",
        "            team[name.lower()] = pokemon_info\n",
        "            print(f\"{pokemon_info['name']} добавлен в вашу команду!\")\n",
        "\n",
        "\n",
        "def remove_pokemon(name):\n",
        "    if name.lower() in team:\n",
        "        removed_pokemon = team.pop(name.lower())\n",
        "        print(f\"{removed_pokemon['name']} удален из вашей команды.\")\n",
        "    else:\n",
        "        print(f\"{name.capitalize()} не найден в вашей команде.\")\n",
        "\n",
        "\n",
        "def show_team():\n",
        "    if team:\n",
        "        print(\"Ваша команда:\")\n",
        "        for pokemon in team.values():\n",
        "            print(\n",
        "                f\"- {pokemon['name']} (ID: {pokemon['id']}), Типы: {', '.join(pokemon['types'])}, \"\n",
        "                f\"Высота: {pokemon['height']}, Вес: {pokemon['weight']}\")\n",
        "    else:\n",
        "        print(\"Ваша команда пуста.\")\n",
        "\n",
        "\n",
        "def find_pokemon(name):\n",
        "    if name.lower() in team:\n",
        "        pokemon = team[name.lower()]\n",
        "        print(f\"Найден покемон: {pokemon['name']} (ID: {pokemon['id']})\")\n",
        "        print(f\"Типы: {', '.join(pokemon['types'])}, Высота: {pokemon['height']}, Вес: {pokemon['weight']}\")\n",
        "    else:\n",
        "        print(f\"{name.capitalize()} не найден в вашей команде.\")\n",
        "\n",
        "\n",
        "def training_battle(pokemon1, pokemon2):\n",
        "    if pokemon1.lower() not in team or pokemon2.lower() not in team:\n",
        "        print(\"Оба покемона должны находиться в вашей команде для проведения боя.\")\n",
        "        return\n",
        "\n",
        "    p1 = team[pokemon1.lower()]\n",
        "    p2 = team[pokemon2.lower()]\n",
        "\n",
        "    print(f\"Бой между {p1['name']} и {p2['name']}!\")\n",
        "    winner = random.choice([p1, p2])\n",
        "    print(f\"Победитель: {winner['name']}!\")\n",
        "\n",
        "\n",
        "def main():\n",
        "    while True:\n",
        "        print(\"\\nМеню:\")\n",
        "        print(\"1. Добавить покемона в команду\")\n",
        "        print(\"2. Удалить покемона из команды\")\n",
        "        print(\"3. Просмотреть команду\")\n",
        "        print(\"4. Найти покемона по имени\")\n",
        "        print(\"5. Тренировочный бой между двумя покемонами\")\n",
        "        print(\"6. Выйти\")\n",
        "\n",
        "        choice = input(\"Выберите действие: \")\n",
        "\n",
        "        if choice == \"1\":\n",
        "            name = input(\"Введите имя покемона для добавления: \")\n",
        "            add_pokemon(name)\n",
        "        elif choice == \"2\":\n",
        "            name = input(\"Введите имя покемона для удаления: \")\n",
        "            remove_pokemon(name)\n",
        "        elif choice == \"3\":\n",
        "            show_team()\n",
        "        elif choice == \"4\":\n",
        "            name = input(\"Введите имя покемона для поиска: \")\n",
        "            find_pokemon(name)\n",
        "        elif choice == \"5\":\n",
        "            pokemon1 = input(\"Введите имя первого покемона: \")\n",
        "            pokemon2 = input(\"Введите имя второго покемона: \")\n",
        "            training_battle(pokemon1, pokemon2)\n",
        "        elif choice == \"6\":\n",
        "            print(\"До свидания!\")\n",
        "            break\n",
        "        else:\n",
        "            print(\"Неверный выбор. Попробуйте снова.\")\n",
        "\n",
        "\n",
        "main()\n"
      ],
      "metadata": {
        "id": "NnGYp1MTqi5k"
      },
      "execution_count": null,
      "outputs": []
    }
  ]
}